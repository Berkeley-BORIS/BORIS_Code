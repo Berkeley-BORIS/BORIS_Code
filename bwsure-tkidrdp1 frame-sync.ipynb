{
 "metadata": {
  "name": "",
  "signature": "sha256:061a12e18e30054d90849ec0bd5a8f00b978da416f412b368fbd0b17328b3d4a"
 },
 "nbformat": 3,
 "nbformat_minor": 0,
 "worksheets": [
  {
   "cells": [
    {
     "cell_type": "code",
     "collapsed": false,
     "input": [
      "#matplotlib inline\n",
      "\n",
      "import numpy as np\n",
      "import pandas as pd\n",
      "import scipy.io as spio\n",
      "import matplotlib.pyplot as plt"
     ],
     "language": "python",
     "metadata": {},
     "outputs": [],
     "prompt_number": 1
    },
    {
     "cell_type": "code",
     "collapsed": false,
     "input": [
      "mat = spio.loadmat(\"/Volumes/Raw Data Backup/for imac/eyes/data_processing/data/bwsure1/bwsure1_proc.mat\")\n",
      "tg1 = mat['TG1']\n",
      "tg2 = mat['TG2']\n",
      "frames = mat['B'][mat['B'][:,-1] == 1]"
     ],
     "language": "python",
     "metadata": {},
     "outputs": [],
     "prompt_number": 2
    },
    {
     "cell_type": "code",
     "collapsed": false,
     "input": [
      "frames"
     ],
     "language": "python",
     "metadata": {},
     "outputs": [
      {
       "metadata": {},
       "output_type": "pyout",
       "prompt_number": 14,
       "text": [
        "array([[ 643629,       3,       1],\n",
        "       [ 643646,       3,       1],\n",
        "       [ 643679,       3,       1],\n",
        "       ..., \n",
        "       [2121356,       3,       1],\n",
        "       [2121389,       3,       1],\n",
        "       [2121422,       3,       1]], dtype=int32)"
       ]
      }
     ],
     "prompt_number": 14
    },
    {
     "cell_type": "code",
     "collapsed": false,
     "input": [
      "tg1"
     ],
     "language": "python",
     "metadata": {},
     "outputs": [
      {
       "metadata": {},
       "output_type": "pyout",
       "prompt_number": 6,
       "text": [
        "array([[    100,       1,  643019],\n",
        "       [     50,       1,  748195],\n",
        "       [    450,       1,  884837],\n",
        "       [    450,       2, 1976686],\n",
        "       [     50,       2, 2066063],\n",
        "       [    100,       2, 2175313]], dtype=int32)"
       ]
      }
     ],
     "prompt_number": 6
    },
    {
     "cell_type": "code",
     "collapsed": false,
     "input": [
      "tg2"
     ],
     "language": "python",
     "metadata": {},
     "outputs": [
      {
       "metadata": {},
       "output_type": "pyout",
       "prompt_number": 7,
       "text": [
        "array([[    100,       1,  695525],\n",
        "       [     50,       1,  804662],\n",
        "       [    450,       1,  899495],\n",
        "       [    450,       2, 1993858],\n",
        "       [     50,       2, 2119159],\n",
        "       [    100,       2, 2234002]], dtype=int32)"
       ]
      }
     ],
     "prompt_number": 7
    },
    {
     "cell_type": "code",
     "collapsed": false,
     "input": [
      "rad_100_2_startframe = tg1[5,2] + 612  # why add 612 to start of rad_100_2?\n",
      "rad_100_2_captures = frames[(frames[:,0] >= tg1[0,2]) & (frames[:,0] <= tg2[0,2])]\n",
      "rad_100_2_captures = rad_100_2_captures[:,0]\n",
      "rad_100_2_captures = rad_100_2_captures - rad_100_2_captures[0] # frame offsets\n",
      "rad_100_2_frames = rad_100_2_startframe + rad_100_2_captures"
     ],
     "language": "python",
     "metadata": {},
     "outputs": [],
     "prompt_number": 52
    },
    {
     "cell_type": "code",
     "collapsed": false,
     "input": [
      "offsets = np.array([i*33 for i in xrange(1,176)])  # why do we add 175 more frame times to the end of the captures?"
     ],
     "language": "python",
     "metadata": {},
     "outputs": [],
     "prompt_number": 40
    },
    {
     "cell_type": "markdown",
     "metadata": {},
     "source": [
      "My guess is that there are empirically 612 ms between RADIAL_TARGET_STARTED and when frames start being captured for every other radial target phase, and that there are 175 more frames saved to rad_100_2 than rad_100_1."
     ]
    },
    {
     "cell_type": "code",
     "collapsed": false,
     "input": [
      "more_frames = rad_100_2_frames[-1] + offsets"
     ],
     "language": "python",
     "metadata": {},
     "outputs": [],
     "prompt_number": 44
    },
    {
     "cell_type": "code",
     "collapsed": false,
     "input": [
      "more_frames"
     ],
     "language": "python",
     "metadata": {},
     "outputs": [
      {
       "metadata": {},
       "output_type": "pyout",
       "prompt_number": 45,
       "text": [
        "array([2227675, 2227708, 2227741, 2227774, 2227807, 2227840, 2227873,\n",
        "       2227906, 2227939, 2227972, 2228005, 2228038, 2228071, 2228104,\n",
        "       2228137, 2228170, 2228203, 2228236, 2228269, 2228302, 2228335,\n",
        "       2228368, 2228401, 2228434, 2228467, 2228500, 2228533, 2228566,\n",
        "       2228599, 2228632, 2228665, 2228698, 2228731, 2228764, 2228797,\n",
        "       2228830, 2228863, 2228896, 2228929, 2228962, 2228995, 2229028,\n",
        "       2229061, 2229094, 2229127, 2229160, 2229193, 2229226, 2229259,\n",
        "       2229292, 2229325, 2229358, 2229391, 2229424, 2229457, 2229490,\n",
        "       2229523, 2229556, 2229589, 2229622, 2229655, 2229688, 2229721,\n",
        "       2229754, 2229787, 2229820, 2229853, 2229886, 2229919, 2229952,\n",
        "       2229985, 2230018, 2230051, 2230084, 2230117, 2230150, 2230183,\n",
        "       2230216, 2230249, 2230282, 2230315, 2230348, 2230381, 2230414,\n",
        "       2230447, 2230480, 2230513, 2230546, 2230579, 2230612, 2230645,\n",
        "       2230678, 2230711, 2230744, 2230777, 2230810, 2230843, 2230876,\n",
        "       2230909, 2230942, 2230975, 2231008, 2231041, 2231074, 2231107,\n",
        "       2231140, 2231173, 2231206, 2231239, 2231272, 2231305, 2231338,\n",
        "       2231371, 2231404, 2231437, 2231470, 2231503, 2231536, 2231569,\n",
        "       2231602, 2231635, 2231668, 2231701, 2231734, 2231767, 2231800,\n",
        "       2231833, 2231866, 2231899, 2231932, 2231965, 2231998, 2232031,\n",
        "       2232064, 2232097, 2232130, 2232163, 2232196, 2232229, 2232262,\n",
        "       2232295, 2232328, 2232361, 2232394, 2232427, 2232460, 2232493,\n",
        "       2232526, 2232559, 2232592, 2232625, 2232658, 2232691, 2232724,\n",
        "       2232757, 2232790, 2232823, 2232856, 2232889, 2232922, 2232955,\n",
        "       2232988, 2233021, 2233054, 2233087, 2233120, 2233153, 2233186,\n",
        "       2233219, 2233252, 2233285, 2233318, 2233351, 2233384, 2233417])"
       ]
      }
     ],
     "prompt_number": 45
    },
    {
     "cell_type": "code",
     "collapsed": false,
     "input": [
      "rad_ind = 5\n",
      "start = tg1[rad_ind,2]\n",
      "end = tg2[rad_ind,2]\n",
      "foi = frames[(frames[:,0] >= start) & (frames[:,0] <= end)]\n",
      "foi[:,0] - start"
     ],
     "language": "python",
     "metadata": {},
     "outputs": [
      {
       "metadata": {},
       "output_type": "pyout",
       "prompt_number": 62,
       "text": [
        "array([], dtype=int32)"
       ]
      }
     ],
     "prompt_number": 62
    },
    {
     "cell_type": "code",
     "collapsed": false,
     "input": [
      "# tkidrdp1\n",
      "mat = spio.loadmat(\"/Volumes/Raw Data Backup/for imac/eyes/data_processing/data/tkidrdp1/tkidrdp1_proc.mat\")\n",
      "tg1 = mat['TG1']\n",
      "tg2 = mat['TG2']\n",
      "frames = mat['B'][mat['B'][:,-1] == 1]"
     ],
     "language": "python",
     "metadata": {},
     "outputs": [],
     "prompt_number": 63
    },
    {
     "cell_type": "code",
     "collapsed": false,
     "input": [
      "tg1"
     ],
     "language": "python",
     "metadata": {},
     "outputs": [
      {
       "metadata": {},
       "output_type": "pyout",
       "prompt_number": 64,
       "text": [
        "array([[    100,       1,  678397],\n",
        "       [     50,       1,  817661],\n",
        "       [    450,       1,  928030],\n",
        "       [    450,       2, 1129669],\n",
        "       [    100,       2, 1215029],\n",
        "       [     50,       2, 1336151],\n",
        "       [     50,       3, 1598616],\n",
        "       [    100,       3, 1716905],\n",
        "       [    200,       3, 1866315],\n",
        "       [    450,       3, 1968748],\n",
        "       [    450,       4, 2168330],\n",
        "       [    100,       4, 2278283],\n",
        "       [     50,       4, 2391324]], dtype=int32)"
       ]
      }
     ],
     "prompt_number": 64
    },
    {
     "cell_type": "code",
     "collapsed": false,
     "input": [
      "tg2"
     ],
     "language": "python",
     "metadata": {},
     "outputs": [
      {
       "metadata": {},
       "output_type": "pyout",
       "prompt_number": 65,
       "text": [
        "array([[    100,       1,  732606],\n",
        "       [     50,       1,  834048],\n",
        "       [    450,       1,  943186],\n",
        "       [    450,       2, 1145815],\n",
        "       [    100,       2, 1273883],\n",
        "       [     50,       2, 1395354],\n",
        "       [     50,       3, 1653500],\n",
        "       [    100,       3, 1776441],\n",
        "       [    200,       3, 1909870],\n",
        "       [    450,       3, 1985531],\n",
        "       [    450,       4, 2184316],\n",
        "       [    100,       4, 2333246],\n",
        "       [     50,       4, 2407215]], dtype=int32)"
       ]
      }
     ],
     "prompt_number": 65
    },
    {
     "cell_type": "code",
     "collapsed": false,
     "input": [
      "frames"
     ],
     "language": "python",
     "metadata": {},
     "outputs": [
      {
       "metadata": {},
       "output_type": "pyout",
       "prompt_number": 66,
       "text": [
        "array([[ 679011,       3,       1],\n",
        "       [ 679028,       3,       1],\n",
        "       [ 679061,       3,       1],\n",
        "       ..., \n",
        "       [2186586,       3,       1],\n",
        "       [2186620,       3,       1],\n",
        "       [2186654,       3,       1]], dtype=int32)"
       ]
      }
     ],
     "prompt_number": 66
    },
    {
     "cell_type": "code",
     "collapsed": false,
     "input": [
      "rad_100_4_startframe = TG1[11,2] + 612;\n",
      "rad_100_4_captures = frames(frames >= TG1[0,2] & frames <= TG2[0,2]);\n",
      "rad_100_4_captures = rad_100_4_captures - rad_100_4_captures[0];\n",
      "rad_100_4_frames = rad_100_4_startframe + rad_100_4_captures;\n",
      "for j = 1:28\n",
      "    rad_100_4_frames(end+1) = rad_100_4_frames(end) + 33;\n",
      "end"
     ],
     "language": "python",
     "metadata": {},
     "outputs": []
    },
    {
     "cell_type": "code",
     "collapsed": false,
     "input": [
      "3202 + 2*(28)"
     ],
     "language": "python",
     "metadata": {},
     "outputs": [
      {
       "metadata": {},
       "output_type": "pyout",
       "prompt_number": 67,
       "text": [
        "3258"
       ]
      }
     ],
     "prompt_number": 67
    },
    {
     "cell_type": "code",
     "collapsed": false,
     "input": [
      "(3241 - 3203) / 2."
     ],
     "language": "python",
     "metadata": {},
     "outputs": [
      {
       "metadata": {},
       "output_type": "pyout",
       "prompt_number": 68,
       "text": [
        "19.0"
       ]
      }
     ],
     "prompt_number": 68
    },
    {
     "cell_type": "code",
     "collapsed": false,
     "input": [
      "import yaml"
     ],
     "language": "python",
     "metadata": {},
     "outputs": [],
     "prompt_number": 70
    },
    {
     "cell_type": "code",
     "collapsed": false,
     "input": [
      "q = yaml.load(open(\"/Users/bwsprague/GradSchool/Research/BerkeleyVisionStats/data/raw/gaze/tki/fixup.yaml\", 'r'))"
     ],
     "language": "python",
     "metadata": {},
     "outputs": [],
     "prompt_number": 77
    },
    {
     "cell_type": "code",
     "collapsed": false,
     "input": [
      "q"
     ],
     "language": "python",
     "metadata": {},
     "outputs": [
      {
       "metadata": {},
       "output_type": "pyout",
       "prompt_number": 78,
       "text": [
        "[{'capture_start_offset': 612,\n",
        "  'init_endtime': 732606,\n",
        "  'init_starttime': 678397,\n",
        "  'name': 'radial_targets_100_4',\n",
        "  'num_additional_frames': 28,\n",
        "  'radial_target_starttime': 2278283},\n",
        " {'capture_start_offset': 612,\n",
        "  'init_endtime': 834048,\n",
        "  'init_starttime': 817661,\n",
        "  'last_possible_time': 2407214,\n",
        "  'name': 'radial_targets_50_4',\n",
        "  'num_additional_frames': 0,\n",
        "  'radial_target_starttime': 2391324}]"
       ]
      }
     ],
     "prompt_number": 78
    },
    {
     "cell_type": "code",
     "collapsed": false,
     "input": [
      "q[0]"
     ],
     "language": "python",
     "metadata": {},
     "outputs": [
      {
       "metadata": {},
       "output_type": "pyout",
       "prompt_number": 79,
       "text": [
        "{'capture_start_offset': 612,\n",
        " 'init_endtime': 732606,\n",
        " 'init_starttime': 678397,\n",
        " 'name': 'radial_targets_100_4',\n",
        " 'num_additional_frames': 28,\n",
        " 'radial_target_starttime': 2278283}"
       ]
      }
     ],
     "prompt_number": 79
    },
    {
     "cell_type": "code",
     "collapsed": false,
     "input": [],
     "language": "python",
     "metadata": {},
     "outputs": []
    }
   ],
   "metadata": {}
  }
 ]
}