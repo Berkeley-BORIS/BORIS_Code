{
 "metadata": {
  "name": "",
  "signature": "sha256:97bf8ee038d4c8f926ce2ab7db9e928679186f37e94d2248906318d1e432f893"
 },
 "nbformat": 3,
 "nbformat_minor": 0,
 "worksheets": [
  {
   "cells": [
    {
     "cell_type": "code",
     "collapsed": false,
     "input": [
      "#matplotlib inline\n",
      "\n",
      "import numpy as np\n",
      "import pandas as pd\n",
      "import scipy.io as spio\n",
      "import matplotlib.pyplot as plt"
     ],
     "language": "python",
     "metadata": {},
     "outputs": [],
     "prompt_number": 1
    },
    {
     "cell_type": "code",
     "collapsed": false,
     "input": [
      "mat = spio.loadmat(\"/Volumes/Raw Data Backup/for imac/eyes/data_processing/data/bwsure1/bwsure1_proc.mat\")\n",
      "tg1 = mat['TG1']\n",
      "tg2 = mat['TG2']\n",
      "frames = mat['B'][mat['B'][:,-1] == 1]"
     ],
     "language": "python",
     "metadata": {},
     "outputs": [],
     "prompt_number": 5
    },
    {
     "cell_type": "code",
     "collapsed": false,
     "input": [
      "frames"
     ],
     "language": "python",
     "metadata": {},
     "outputs": [
      {
       "metadata": {},
       "output_type": "pyout",
       "prompt_number": 6,
       "text": [
        "array([[ 643629,       3,       1],\n",
        "       [ 643646,       3,       1],\n",
        "       [ 643679,       3,       1],\n",
        "       ..., \n",
        "       [2121356,       3,       1],\n",
        "       [2121389,       3,       1],\n",
        "       [2121422,       3,       1]], dtype=int32)"
       ]
      }
     ],
     "prompt_number": 6
    },
    {
     "cell_type": "code",
     "collapsed": false,
     "input": [
      "tg1"
     ],
     "language": "python",
     "metadata": {},
     "outputs": [
      {
       "metadata": {},
       "output_type": "pyout",
       "prompt_number": 7,
       "text": [
        "array([[    100,       1,  643019],\n",
        "       [     50,       1,  748195],\n",
        "       [    450,       1,  884837],\n",
        "       [    450,       2, 1976686],\n",
        "       [     50,       2, 2066063],\n",
        "       [    100,       2, 2175313]], dtype=int32)"
       ]
      }
     ],
     "prompt_number": 7
    },
    {
     "cell_type": "code",
     "collapsed": false,
     "input": [
      "tg2"
     ],
     "language": "python",
     "metadata": {},
     "outputs": [
      {
       "metadata": {},
       "output_type": "pyout",
       "prompt_number": 7,
       "text": [
        "array([[    100,       1,  695525],\n",
        "       [     50,       1,  804662],\n",
        "       [    450,       1,  899495],\n",
        "       [    450,       2, 1993858],\n",
        "       [     50,       2, 2119159],\n",
        "       [    100,       2, 2234002]], dtype=int32)"
       ]
      }
     ],
     "prompt_number": 7
    },
    {
     "cell_type": "code",
     "collapsed": false,
     "input": [
      "frame_df = pd.DataFrame({'time':frames[:,0], 'press num':np.r_[0:frames.shape[0]]})"
     ],
     "language": "python",
     "metadata": {},
     "outputs": [],
     "prompt_number": 8
    },
    {
     "cell_type": "code",
     "collapsed": false,
     "input": [
      "rad_100_2_startframe = tg1[5,2] + 612  # why add 612 to start of rad_100_2?\n",
      "rad_100_2_captures = frames[(frames[:,0] >= tg1[0,2]) & (frames[:,0] <= tg2[0,2])]\n",
      "rad_100_2_captures = rad_100_2_captures[:,0]\n",
      "rad_100_2_captures = rad_100_2_captures - rad_100_2_captures[0] # frame offsets\n",
      "rad_100_2_frames = rad_100_2_startframe + rad_100_2_captures"
     ],
     "language": "python",
     "metadata": {},
     "outputs": [],
     "prompt_number": 10
    },
    {
     "cell_type": "code",
     "collapsed": false,
     "input": [
      "offsets = np.array([i*33 for i in xrange(1,176)])  # why do we add 175 more frame times to the end of the captures?"
     ],
     "language": "python",
     "metadata": {},
     "outputs": [],
     "prompt_number": 11
    },
    {
     "cell_type": "markdown",
     "metadata": {},
     "source": [
      "My guess is that there are empirically 612 ms between RADIAL_TARGET_STARTED and when frames start being captured for every other radial target phase, and that there are 175 more frames saved to rad_100_2 than rad_100_1."
     ]
    },
    {
     "cell_type": "code",
     "collapsed": false,
     "input": [
      "new_captures = frame_df[(frame_df['time'] >= tg1[0,2]) & (frame_df['time'] <= tg2[0,2])].copy()\n",
      "new_captures -= new_captures.iloc[0]\n",
      "new_captures['press num'] += 1 + frame_df['press num'].iloc[-1]\n",
      "new_captures['time'] += rad_100_2_startframe\n",
      "\n",
      "extra_buttons = [new_captures['press num'].iloc[-1] + i for i in xrange(1,176)]\n",
      "extra_frame_times = [new_captures['time'].iloc[-1] + i*33 for i in xrange(1,176)]\n",
      "extra_frames = pd.DataFrame({'time':extra_frame_times, 'press num': extra_buttons})\n",
      "extra_frames = extra_frames[extra_frames['time'] < tg2[5,2]]\n",
      "new_captures = pd.concat([new_captures, extra_frames])\n",
      "new_captures\n",
      "# extra_frames"
     ],
     "language": "python",
     "metadata": {},
     "outputs": [
      {
       "html": [
        "<div style=\"max-height:1000px;max-width:1500px;overflow:auto;\">\n",
        "<table border=\"1\" class=\"dataframe\">\n",
        "  <thead>\n",
        "    <tr style=\"text-align: right;\">\n",
        "      <th></th>\n",
        "      <th>press num</th>\n",
        "      <th>time</th>\n",
        "    </tr>\n",
        "  </thead>\n",
        "  <tbody>\n",
        "    <tr>\n",
        "      <th>0  </th>\n",
        "      <td> 35757</td>\n",
        "      <td> 2175925</td>\n",
        "    </tr>\n",
        "    <tr>\n",
        "      <th>1  </th>\n",
        "      <td> 35758</td>\n",
        "      <td> 2175942</td>\n",
        "    </tr>\n",
        "    <tr>\n",
        "      <th>2  </th>\n",
        "      <td> 35759</td>\n",
        "      <td> 2175975</td>\n",
        "    </tr>\n",
        "    <tr>\n",
        "      <th>3  </th>\n",
        "      <td> 35760</td>\n",
        "      <td> 2176008</td>\n",
        "    </tr>\n",
        "    <tr>\n",
        "      <th>4  </th>\n",
        "      <td> 35761</td>\n",
        "      <td> 2176042</td>\n",
        "    </tr>\n",
        "    <tr>\n",
        "      <th>5  </th>\n",
        "      <td> 35762</td>\n",
        "      <td> 2176075</td>\n",
        "    </tr>\n",
        "    <tr>\n",
        "      <th>6  </th>\n",
        "      <td> 35763</td>\n",
        "      <td> 2176108</td>\n",
        "    </tr>\n",
        "    <tr>\n",
        "      <th>7  </th>\n",
        "      <td> 35764</td>\n",
        "      <td> 2176141</td>\n",
        "    </tr>\n",
        "    <tr>\n",
        "      <th>8  </th>\n",
        "      <td> 35765</td>\n",
        "      <td> 2176175</td>\n",
        "    </tr>\n",
        "    <tr>\n",
        "      <th>9  </th>\n",
        "      <td> 35766</td>\n",
        "      <td> 2176208</td>\n",
        "    </tr>\n",
        "    <tr>\n",
        "      <th>10 </th>\n",
        "      <td> 35767</td>\n",
        "      <td> 2176242</td>\n",
        "    </tr>\n",
        "    <tr>\n",
        "      <th>11 </th>\n",
        "      <td> 35768</td>\n",
        "      <td> 2176275</td>\n",
        "    </tr>\n",
        "    <tr>\n",
        "      <th>12 </th>\n",
        "      <td> 35769</td>\n",
        "      <td> 2176308</td>\n",
        "    </tr>\n",
        "    <tr>\n",
        "      <th>13 </th>\n",
        "      <td> 35770</td>\n",
        "      <td> 2176341</td>\n",
        "    </tr>\n",
        "    <tr>\n",
        "      <th>14 </th>\n",
        "      <td> 35771</td>\n",
        "      <td> 2176375</td>\n",
        "    </tr>\n",
        "    <tr>\n",
        "      <th>15 </th>\n",
        "      <td> 35772</td>\n",
        "      <td> 2176408</td>\n",
        "    </tr>\n",
        "    <tr>\n",
        "      <th>16 </th>\n",
        "      <td> 35773</td>\n",
        "      <td> 2176441</td>\n",
        "    </tr>\n",
        "    <tr>\n",
        "      <th>17 </th>\n",
        "      <td> 35774</td>\n",
        "      <td> 2176475</td>\n",
        "    </tr>\n",
        "    <tr>\n",
        "      <th>18 </th>\n",
        "      <td> 35775</td>\n",
        "      <td> 2176508</td>\n",
        "    </tr>\n",
        "    <tr>\n",
        "      <th>19 </th>\n",
        "      <td> 35776</td>\n",
        "      <td> 2176542</td>\n",
        "    </tr>\n",
        "    <tr>\n",
        "      <th>20 </th>\n",
        "      <td> 35777</td>\n",
        "      <td> 2176575</td>\n",
        "    </tr>\n",
        "    <tr>\n",
        "      <th>21 </th>\n",
        "      <td> 35778</td>\n",
        "      <td> 2176608</td>\n",
        "    </tr>\n",
        "    <tr>\n",
        "      <th>22 </th>\n",
        "      <td> 35779</td>\n",
        "      <td> 2176641</td>\n",
        "    </tr>\n",
        "    <tr>\n",
        "      <th>23 </th>\n",
        "      <td> 35780</td>\n",
        "      <td> 2176675</td>\n",
        "    </tr>\n",
        "    <tr>\n",
        "      <th>24 </th>\n",
        "      <td> 35781</td>\n",
        "      <td> 2176709</td>\n",
        "    </tr>\n",
        "    <tr>\n",
        "      <th>25 </th>\n",
        "      <td> 35782</td>\n",
        "      <td> 2176742</td>\n",
        "    </tr>\n",
        "    <tr>\n",
        "      <th>26 </th>\n",
        "      <td> 35783</td>\n",
        "      <td> 2176775</td>\n",
        "    </tr>\n",
        "    <tr>\n",
        "      <th>27 </th>\n",
        "      <td> 35784</td>\n",
        "      <td> 2176808</td>\n",
        "    </tr>\n",
        "    <tr>\n",
        "      <th>28 </th>\n",
        "      <td> 35785</td>\n",
        "      <td> 2176841</td>\n",
        "    </tr>\n",
        "    <tr>\n",
        "      <th>29 </th>\n",
        "      <td> 35786</td>\n",
        "      <td> 2176875</td>\n",
        "    </tr>\n",
        "    <tr>\n",
        "      <th>...</th>\n",
        "      <td>...</td>\n",
        "      <td>...</td>\n",
        "    </tr>\n",
        "    <tr>\n",
        "      <th>145</th>\n",
        "      <td> 37455</td>\n",
        "      <td> 2232460</td>\n",
        "    </tr>\n",
        "    <tr>\n",
        "      <th>146</th>\n",
        "      <td> 37456</td>\n",
        "      <td> 2232493</td>\n",
        "    </tr>\n",
        "    <tr>\n",
        "      <th>147</th>\n",
        "      <td> 37457</td>\n",
        "      <td> 2232526</td>\n",
        "    </tr>\n",
        "    <tr>\n",
        "      <th>148</th>\n",
        "      <td> 37458</td>\n",
        "      <td> 2232559</td>\n",
        "    </tr>\n",
        "    <tr>\n",
        "      <th>149</th>\n",
        "      <td> 37459</td>\n",
        "      <td> 2232592</td>\n",
        "    </tr>\n",
        "    <tr>\n",
        "      <th>150</th>\n",
        "      <td> 37460</td>\n",
        "      <td> 2232625</td>\n",
        "    </tr>\n",
        "    <tr>\n",
        "      <th>151</th>\n",
        "      <td> 37461</td>\n",
        "      <td> 2232658</td>\n",
        "    </tr>\n",
        "    <tr>\n",
        "      <th>152</th>\n",
        "      <td> 37462</td>\n",
        "      <td> 2232691</td>\n",
        "    </tr>\n",
        "    <tr>\n",
        "      <th>153</th>\n",
        "      <td> 37463</td>\n",
        "      <td> 2232724</td>\n",
        "    </tr>\n",
        "    <tr>\n",
        "      <th>154</th>\n",
        "      <td> 37464</td>\n",
        "      <td> 2232757</td>\n",
        "    </tr>\n",
        "    <tr>\n",
        "      <th>155</th>\n",
        "      <td> 37465</td>\n",
        "      <td> 2232790</td>\n",
        "    </tr>\n",
        "    <tr>\n",
        "      <th>156</th>\n",
        "      <td> 37466</td>\n",
        "      <td> 2232823</td>\n",
        "    </tr>\n",
        "    <tr>\n",
        "      <th>157</th>\n",
        "      <td> 37467</td>\n",
        "      <td> 2232856</td>\n",
        "    </tr>\n",
        "    <tr>\n",
        "      <th>158</th>\n",
        "      <td> 37468</td>\n",
        "      <td> 2232889</td>\n",
        "    </tr>\n",
        "    <tr>\n",
        "      <th>159</th>\n",
        "      <td> 37469</td>\n",
        "      <td> 2232922</td>\n",
        "    </tr>\n",
        "    <tr>\n",
        "      <th>160</th>\n",
        "      <td> 37470</td>\n",
        "      <td> 2232955</td>\n",
        "    </tr>\n",
        "    <tr>\n",
        "      <th>161</th>\n",
        "      <td> 37471</td>\n",
        "      <td> 2232988</td>\n",
        "    </tr>\n",
        "    <tr>\n",
        "      <th>162</th>\n",
        "      <td> 37472</td>\n",
        "      <td> 2233021</td>\n",
        "    </tr>\n",
        "    <tr>\n",
        "      <th>163</th>\n",
        "      <td> 37473</td>\n",
        "      <td> 2233054</td>\n",
        "    </tr>\n",
        "    <tr>\n",
        "      <th>164</th>\n",
        "      <td> 37474</td>\n",
        "      <td> 2233087</td>\n",
        "    </tr>\n",
        "    <tr>\n",
        "      <th>165</th>\n",
        "      <td> 37475</td>\n",
        "      <td> 2233120</td>\n",
        "    </tr>\n",
        "    <tr>\n",
        "      <th>166</th>\n",
        "      <td> 37476</td>\n",
        "      <td> 2233153</td>\n",
        "    </tr>\n",
        "    <tr>\n",
        "      <th>167</th>\n",
        "      <td> 37477</td>\n",
        "      <td> 2233186</td>\n",
        "    </tr>\n",
        "    <tr>\n",
        "      <th>168</th>\n",
        "      <td> 37478</td>\n",
        "      <td> 2233219</td>\n",
        "    </tr>\n",
        "    <tr>\n",
        "      <th>169</th>\n",
        "      <td> 37479</td>\n",
        "      <td> 2233252</td>\n",
        "    </tr>\n",
        "    <tr>\n",
        "      <th>170</th>\n",
        "      <td> 37480</td>\n",
        "      <td> 2233285</td>\n",
        "    </tr>\n",
        "    <tr>\n",
        "      <th>171</th>\n",
        "      <td> 37481</td>\n",
        "      <td> 2233318</td>\n",
        "    </tr>\n",
        "    <tr>\n",
        "      <th>172</th>\n",
        "      <td> 37482</td>\n",
        "      <td> 2233351</td>\n",
        "    </tr>\n",
        "    <tr>\n",
        "      <th>173</th>\n",
        "      <td> 37483</td>\n",
        "      <td> 2233384</td>\n",
        "    </tr>\n",
        "    <tr>\n",
        "      <th>174</th>\n",
        "      <td> 37484</td>\n",
        "      <td> 2233417</td>\n",
        "    </tr>\n",
        "  </tbody>\n",
        "</table>\n",
        "<p>1728 rows \u00d7 2 columns</p>\n",
        "</div>"
       ],
       "metadata": {},
       "output_type": "pyout",
       "prompt_number": 45,
       "text": [
        "     press num     time\n",
        "0        35757  2175925\n",
        "1        35758  2175942\n",
        "2        35759  2175975\n",
        "3        35760  2176008\n",
        "4        35761  2176042\n",
        "5        35762  2176075\n",
        "6        35763  2176108\n",
        "7        35764  2176141\n",
        "8        35765  2176175\n",
        "9        35766  2176208\n",
        "10       35767  2176242\n",
        "11       35768  2176275\n",
        "12       35769  2176308\n",
        "13       35770  2176341\n",
        "14       35771  2176375\n",
        "15       35772  2176408\n",
        "16       35773  2176441\n",
        "17       35774  2176475\n",
        "18       35775  2176508\n",
        "19       35776  2176542\n",
        "20       35777  2176575\n",
        "21       35778  2176608\n",
        "22       35779  2176641\n",
        "23       35780  2176675\n",
        "24       35781  2176709\n",
        "25       35782  2176742\n",
        "26       35783  2176775\n",
        "27       35784  2176808\n",
        "28       35785  2176841\n",
        "29       35786  2176875\n",
        "..         ...      ...\n",
        "145      37455  2232460\n",
        "146      37456  2232493\n",
        "147      37457  2232526\n",
        "148      37458  2232559\n",
        "149      37459  2232592\n",
        "150      37460  2232625\n",
        "151      37461  2232658\n",
        "152      37462  2232691\n",
        "153      37463  2232724\n",
        "154      37464  2232757\n",
        "155      37465  2232790\n",
        "156      37466  2232823\n",
        "157      37467  2232856\n",
        "158      37468  2232889\n",
        "159      37469  2232922\n",
        "160      37470  2232955\n",
        "161      37471  2232988\n",
        "162      37472  2233021\n",
        "163      37473  2233054\n",
        "164      37474  2233087\n",
        "165      37475  2233120\n",
        "166      37476  2233153\n",
        "167      37477  2233186\n",
        "168      37478  2233219\n",
        "169      37479  2233252\n",
        "170      37480  2233285\n",
        "171      37481  2233318\n",
        "172      37482  2233351\n",
        "173      37483  2233384\n",
        "174      37484  2233417\n",
        "\n",
        "[1728 rows x 2 columns]"
       ]
      }
     ],
     "prompt_number": 45
    },
    {
     "cell_type": "code",
     "collapsed": false,
     "input": [
      "more_frames = rad_100_2_frames[-1] + offsets"
     ],
     "language": "python",
     "metadata": {},
     "outputs": [],
     "prompt_number": 44
    },
    {
     "cell_type": "code",
     "collapsed": false,
     "input": [
      "more_frames"
     ],
     "language": "python",
     "metadata": {},
     "outputs": [
      {
       "metadata": {},
       "output_type": "pyout",
       "prompt_number": 45,
       "text": [
        "array([2227675, 2227708, 2227741, 2227774, 2227807, 2227840, 2227873,\n",
        "       2227906, 2227939, 2227972, 2228005, 2228038, 2228071, 2228104,\n",
        "       2228137, 2228170, 2228203, 2228236, 2228269, 2228302, 2228335,\n",
        "       2228368, 2228401, 2228434, 2228467, 2228500, 2228533, 2228566,\n",
        "       2228599, 2228632, 2228665, 2228698, 2228731, 2228764, 2228797,\n",
        "       2228830, 2228863, 2228896, 2228929, 2228962, 2228995, 2229028,\n",
        "       2229061, 2229094, 2229127, 2229160, 2229193, 2229226, 2229259,\n",
        "       2229292, 2229325, 2229358, 2229391, 2229424, 2229457, 2229490,\n",
        "       2229523, 2229556, 2229589, 2229622, 2229655, 2229688, 2229721,\n",
        "       2229754, 2229787, 2229820, 2229853, 2229886, 2229919, 2229952,\n",
        "       2229985, 2230018, 2230051, 2230084, 2230117, 2230150, 2230183,\n",
        "       2230216, 2230249, 2230282, 2230315, 2230348, 2230381, 2230414,\n",
        "       2230447, 2230480, 2230513, 2230546, 2230579, 2230612, 2230645,\n",
        "       2230678, 2230711, 2230744, 2230777, 2230810, 2230843, 2230876,\n",
        "       2230909, 2230942, 2230975, 2231008, 2231041, 2231074, 2231107,\n",
        "       2231140, 2231173, 2231206, 2231239, 2231272, 2231305, 2231338,\n",
        "       2231371, 2231404, 2231437, 2231470, 2231503, 2231536, 2231569,\n",
        "       2231602, 2231635, 2231668, 2231701, 2231734, 2231767, 2231800,\n",
        "       2231833, 2231866, 2231899, 2231932, 2231965, 2231998, 2232031,\n",
        "       2232064, 2232097, 2232130, 2232163, 2232196, 2232229, 2232262,\n",
        "       2232295, 2232328, 2232361, 2232394, 2232427, 2232460, 2232493,\n",
        "       2232526, 2232559, 2232592, 2232625, 2232658, 2232691, 2232724,\n",
        "       2232757, 2232790, 2232823, 2232856, 2232889, 2232922, 2232955,\n",
        "       2232988, 2233021, 2233054, 2233087, 2233120, 2233153, 2233186,\n",
        "       2233219, 2233252, 2233285, 2233318, 2233351, 2233384, 2233417])"
       ]
      }
     ],
     "prompt_number": 45
    },
    {
     "cell_type": "code",
     "collapsed": false,
     "input": [
      "rad_ind = 5\n",
      "start = tg1[rad_ind,2]\n",
      "end = tg2[rad_ind,2]\n",
      "foi = frames[(frames[:,0] >= start) & (frames[:,0] <= end)]\n",
      "foi[:,0] - start"
     ],
     "language": "python",
     "metadata": {},
     "outputs": [
      {
       "metadata": {},
       "output_type": "pyout",
       "prompt_number": 62,
       "text": [
        "array([], dtype=int32)"
       ]
      }
     ],
     "prompt_number": 62
    },
    {
     "cell_type": "code",
     "collapsed": false,
     "input": [
      "# tkidrdp1\n",
      "mat = spio.loadmat(\"/Volumes/Raw Data Backup/for imac/eyes/data_processing/data/tkidrdp1/tkidrdp1_proc.mat\")\n",
      "tg1 = mat['TG1']\n",
      "tg2 = mat['TG2']\n",
      "frames = mat['B'][mat['B'][:,-1] == 1]"
     ],
     "language": "python",
     "metadata": {},
     "outputs": [],
     "prompt_number": 63
    },
    {
     "cell_type": "code",
     "collapsed": false,
     "input": [
      "tg1"
     ],
     "language": "python",
     "metadata": {},
     "outputs": [
      {
       "metadata": {},
       "output_type": "pyout",
       "prompt_number": 64,
       "text": [
        "array([[    100,       1,  678397],\n",
        "       [     50,       1,  817661],\n",
        "       [    450,       1,  928030],\n",
        "       [    450,       2, 1129669],\n",
        "       [    100,       2, 1215029],\n",
        "       [     50,       2, 1336151],\n",
        "       [     50,       3, 1598616],\n",
        "       [    100,       3, 1716905],\n",
        "       [    200,       3, 1866315],\n",
        "       [    450,       3, 1968748],\n",
        "       [    450,       4, 2168330],\n",
        "       [    100,       4, 2278283],\n",
        "       [     50,       4, 2391324]], dtype=int32)"
       ]
      }
     ],
     "prompt_number": 64
    },
    {
     "cell_type": "code",
     "collapsed": false,
     "input": [
      "tg2"
     ],
     "language": "python",
     "metadata": {},
     "outputs": [
      {
       "metadata": {},
       "output_type": "pyout",
       "prompt_number": 65,
       "text": [
        "array([[    100,       1,  732606],\n",
        "       [     50,       1,  834048],\n",
        "       [    450,       1,  943186],\n",
        "       [    450,       2, 1145815],\n",
        "       [    100,       2, 1273883],\n",
        "       [     50,       2, 1395354],\n",
        "       [     50,       3, 1653500],\n",
        "       [    100,       3, 1776441],\n",
        "       [    200,       3, 1909870],\n",
        "       [    450,       3, 1985531],\n",
        "       [    450,       4, 2184316],\n",
        "       [    100,       4, 2333246],\n",
        "       [     50,       4, 2407215]], dtype=int32)"
       ]
      }
     ],
     "prompt_number": 65
    },
    {
     "cell_type": "code",
     "collapsed": false,
     "input": [
      "frames"
     ],
     "language": "python",
     "metadata": {},
     "outputs": [
      {
       "metadata": {},
       "output_type": "pyout",
       "prompt_number": 66,
       "text": [
        "array([[ 679011,       3,       1],\n",
        "       [ 679028,       3,       1],\n",
        "       [ 679061,       3,       1],\n",
        "       ..., \n",
        "       [2186586,       3,       1],\n",
        "       [2186620,       3,       1],\n",
        "       [2186654,       3,       1]], dtype=int32)"
       ]
      }
     ],
     "prompt_number": 66
    },
    {
     "cell_type": "code",
     "collapsed": false,
     "input": [
      "rad_100_4_startframe = TG1[11,2] + 612;\n",
      "rad_100_4_captures = frames(frames >= TG1[0,2] & frames <= TG2[0,2]);\n",
      "rad_100_4_captures = rad_100_4_captures - rad_100_4_captures[0];\n",
      "rad_100_4_frames = rad_100_4_startframe + rad_100_4_captures;\n",
      "for j = 1:28\n",
      "    rad_100_4_frames(end+1) = rad_100_4_frames(end) + 33;\n",
      "end"
     ],
     "language": "python",
     "metadata": {},
     "outputs": []
    },
    {
     "cell_type": "code",
     "collapsed": false,
     "input": [
      "3202 + 2*(28)"
     ],
     "language": "python",
     "metadata": {},
     "outputs": [
      {
       "metadata": {},
       "output_type": "pyout",
       "prompt_number": 67,
       "text": [
        "3258"
       ]
      }
     ],
     "prompt_number": 67
    },
    {
     "cell_type": "code",
     "collapsed": false,
     "input": [
      "(3241 - 3203) / 2."
     ],
     "language": "python",
     "metadata": {},
     "outputs": [
      {
       "metadata": {},
       "output_type": "pyout",
       "prompt_number": 68,
       "text": [
        "19.0"
       ]
      }
     ],
     "prompt_number": 68
    },
    {
     "cell_type": "code",
     "collapsed": false,
     "input": [
      "import yaml"
     ],
     "language": "python",
     "metadata": {},
     "outputs": [],
     "prompt_number": 70
    },
    {
     "cell_type": "code",
     "collapsed": false,
     "input": [
      "q = yaml.load(open(\"/Users/bwsprague/GradSchool/Research/BerkeleyVisionStats/data/raw/gaze/tki/fixup.yaml\", 'r'))"
     ],
     "language": "python",
     "metadata": {},
     "outputs": [],
     "prompt_number": 77
    },
    {
     "cell_type": "code",
     "collapsed": false,
     "input": [
      "q"
     ],
     "language": "python",
     "metadata": {},
     "outputs": [
      {
       "metadata": {},
       "output_type": "pyout",
       "prompt_number": 78,
       "text": [
        "[{'capture_start_offset': 612,\n",
        "  'init_endtime': 732606,\n",
        "  'init_starttime': 678397,\n",
        "  'name': 'radial_targets_100_4',\n",
        "  'num_additional_frames': 28,\n",
        "  'radial_target_starttime': 2278283},\n",
        " {'capture_start_offset': 612,\n",
        "  'init_endtime': 834048,\n",
        "  'init_starttime': 817661,\n",
        "  'last_possible_time': 2407214,\n",
        "  'name': 'radial_targets_50_4',\n",
        "  'num_additional_frames': 0,\n",
        "  'radial_target_starttime': 2391324}]"
       ]
      }
     ],
     "prompt_number": 78
    },
    {
     "cell_type": "code",
     "collapsed": false,
     "input": [
      "q[0]"
     ],
     "language": "python",
     "metadata": {},
     "outputs": [
      {
       "metadata": {},
       "output_type": "pyout",
       "prompt_number": 79,
       "text": [
        "{'capture_start_offset': 612,\n",
        " 'init_endtime': 732606,\n",
        " 'init_starttime': 678397,\n",
        " 'name': 'radial_targets_100_4',\n",
        " 'num_additional_frames': 28,\n",
        " 'radial_target_starttime': 2278283}"
       ]
      }
     ],
     "prompt_number": 79
    },
    {
     "cell_type": "code",
     "collapsed": false,
     "input": [],
     "language": "python",
     "metadata": {},
     "outputs": []
    }
   ],
   "metadata": {}
  }
 ]
}