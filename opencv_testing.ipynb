{
 "metadata": {
  "name": "",
  "signature": "sha256:fc7a358715581c674a6386cca90f886933f0afeb3b5bf50d5102711401730334"
 },
 "nbformat": 3,
 "nbformat_minor": 0,
 "worksheets": [
  {
   "cells": [
    {
     "cell_type": "code",
     "collapsed": false,
     "input": [
      "%matplotlib inline\n",
      "\n",
      "import numpy as np\n",
      "import pandas as pd\n",
      "import matplotlib.pyplot as plt\n",
      "import cv2"
     ],
     "language": "python",
     "metadata": {},
     "outputs": [],
     "prompt_number": 1
    },
    {
     "cell_type": "code",
     "collapsed": false,
     "input": [
      "# Come back to opencv"
     ],
     "language": "python",
     "metadata": {},
     "outputs": [],
     "prompt_number": 4
    },
    {
     "cell_type": "markdown",
     "metadata": {},
     "source": [
      "## Testing frame syncing"
     ]
    },
    {
     "cell_type": "code",
     "collapsed": false,
     "input": [
      "frames = pd.read_hdf(\"/Users/bwsprague/GradSchool/Research/BerkeleyVisionStats/testing/parser_output/frame_output.h5\", 'frames')\n",
      "task_data = pd.read_hdf(\"/Users/bwsprague/GradSchool/Research/BerkeleyVisionStats/testing/parser_output/task_output.h5\", 'task')"
     ],
     "language": "python",
     "metadata": {},
     "outputs": [],
     "prompt_number": 71
    },
    {
     "cell_type": "code",
     "collapsed": false,
     "input": [
      "task_data['both', 'frame_time'] = np.nan\n",
      "task_data['both', 'frame_count'] = np.nan\n",
      "task_data['both', 'frame_time_diff'] = np.nan"
     ],
     "language": "python",
     "metadata": {},
     "outputs": [],
     "prompt_number": 73
    },
    {
     "cell_type": "code",
     "collapsed": false,
     "input": [
      "earliest_time = task_data.index.levels[1].min()\n",
      "latest_time = task_data.index.levels[1].max()"
     ],
     "language": "python",
     "metadata": {},
     "outputs": [],
     "prompt_number": 74
    },
    {
     "cell_type": "code",
     "collapsed": false,
     "input": [
      "task_frames = frames[(frames['time']>earliest_time) & (frames['time']<latest_time)]"
     ],
     "language": "python",
     "metadata": {},
     "outputs": [],
     "prompt_number": 75
    },
    {
     "cell_type": "code",
     "collapsed": false,
     "input": [
      "task_frames.shape"
     ],
     "language": "python",
     "metadata": {},
     "outputs": [
      {
       "metadata": {},
       "output_type": "pyout",
       "prompt_number": 14,
       "text": [
        "(34057, 2)"
       ]
      }
     ],
     "prompt_number": 14
    },
    {
     "cell_type": "code",
     "collapsed": false,
     "input": [
      "count = 0\n",
      "\n",
      "for i, frame in task_frames.iterrows():\n",
      "    #time_range_mask = (frame['time']-15 < task_data.index.levels[1]) & \\\n",
      "     #                   (task_data.index.levels[1] < frame['time']+15)\n",
      "      \n",
      "    time_diffs = task_data.index.levels[1] - frame['time']\n",
      "    time_range_mask = np.abs(time_diffs) < 15\n",
      "    data_of_interest = task_data.loc[time_range_mask]\n",
      "    indices_of_interest = data_of_interest.index.levels[1][q.index.labels[1]]\n",
      "    good_data = data_of_interest[data_of_interest['both', 'quality'] == 'GOOD']\n",
      "    task_data.loc[]\n",
      "    \n",
      "    count += 1\n",
      "    if count > 4:\n",
      "        break\n",
      "        \n",
      "print frame"
     ],
     "language": "python",
     "metadata": {},
     "outputs": [
      {
       "output_type": "stream",
       "stream": "stdout",
       "text": [
        "time         1653783\n",
        "press num       3375\n",
        "Name: 3375, dtype: int64\n"
       ]
      }
     ],
     "prompt_number": 78
    },
    {
     "cell_type": "code",
     "collapsed": false,
     "input": [
      "q = data_of_interest.loc[:,('both', 'frame_time_diff')]"
     ],
     "language": "python",
     "metadata": {},
     "outputs": [],
     "prompt_number": 86
    },
    {
     "cell_type": "code",
     "collapsed": false,
     "input": [
      "q.index.levels[1][q.index.labels[1]]"
     ],
     "language": "python",
     "metadata": {},
     "outputs": [
      {
       "metadata": {},
       "output_type": "pyout",
       "prompt_number": 93,
       "text": [
        "Int64Index([1653772, 1653776, 1653780, 1653784, 1653788, 1653792, 1653796], dtype='int64')"
       ]
      }
     ],
     "prompt_number": 93
    },
    {
     "cell_type": "code",
     "collapsed": false,
     "input": [
      "q.loc[(1,1653780)] = -3"
     ],
     "language": "python",
     "metadata": {},
     "outputs": [],
     "prompt_number": 88
    },
    {
     "cell_type": "code",
     "collapsed": false,
     "input": [
      "data_of_inte"
     ],
     "language": "python",
     "metadata": {},
     "outputs": [
      {
       "html": [
        "<div style=\"max-height:1000px;max-width:1500px;overflow:auto;\">\n",
        "<table border=\"1\" class=\"dataframe\">\n",
        "  <thead>\n",
        "    <tr>\n",
        "      <th></th>\n",
        "      <th></th>\n",
        "      <th colspan=\"3\" halign=\"left\">left</th>\n",
        "      <th colspan=\"3\" halign=\"left\">right</th>\n",
        "      <th>left</th>\n",
        "      <th>right</th>\n",
        "      <th colspan=\"4\" halign=\"left\">both</th>\n",
        "    </tr>\n",
        "    <tr>\n",
        "      <th></th>\n",
        "      <th></th>\n",
        "      <th>href x</th>\n",
        "      <th>href y</th>\n",
        "      <th>pupil area</th>\n",
        "      <th>href x</th>\n",
        "      <th>href y</th>\n",
        "      <th>pupil area</th>\n",
        "      <th>flag</th>\n",
        "      <th>flag</th>\n",
        "      <th>quality</th>\n",
        "      <th>frame_time</th>\n",
        "      <th>frame_count</th>\n",
        "      <th>frame_time_diff</th>\n",
        "    </tr>\n",
        "    <tr>\n",
        "      <th>rep</th>\n",
        "      <th>time</th>\n",
        "      <th></th>\n",
        "      <th></th>\n",
        "      <th></th>\n",
        "      <th></th>\n",
        "      <th></th>\n",
        "      <th></th>\n",
        "      <th></th>\n",
        "      <th></th>\n",
        "      <th></th>\n",
        "      <th></th>\n",
        "      <th></th>\n",
        "      <th></th>\n",
        "    </tr>\n",
        "  </thead>\n",
        "  <tbody>\n",
        "    <tr>\n",
        "      <th rowspan=\"7\" valign=\"top\">1</th>\n",
        "      <th>1653772</th>\n",
        "      <td>-2135</td>\n",
        "      <td>  81</td>\n",
        "      <td> 1969</td>\n",
        "      <td>-1158</td>\n",
        "      <td> 264</td>\n",
        "      <td> 1449</td>\n",
        "      <td> FIX</td>\n",
        "      <td> FIX</td>\n",
        "      <td> GOOD</td>\n",
        "      <td>NaN</td>\n",
        "      <td>NaN</td>\n",
        "      <td>NaN</td>\n",
        "    </tr>\n",
        "    <tr>\n",
        "      <th>1653776</th>\n",
        "      <td>-2152</td>\n",
        "      <td>  86</td>\n",
        "      <td> 1970</td>\n",
        "      <td>-1162</td>\n",
        "      <td> 266</td>\n",
        "      <td> 1449</td>\n",
        "      <td> FIX</td>\n",
        "      <td> FIX</td>\n",
        "      <td> GOOD</td>\n",
        "      <td>NaN</td>\n",
        "      <td>NaN</td>\n",
        "      <td>NaN</td>\n",
        "    </tr>\n",
        "    <tr>\n",
        "      <th>1653780</th>\n",
        "      <td>-2168</td>\n",
        "      <td>  91</td>\n",
        "      <td> 1970</td>\n",
        "      <td>-1165</td>\n",
        "      <td> 265</td>\n",
        "      <td> 1449</td>\n",
        "      <td> FIX</td>\n",
        "      <td> FIX</td>\n",
        "      <td> GOOD</td>\n",
        "      <td> -3</td>\n",
        "      <td>NaN</td>\n",
        "      <td> -3</td>\n",
        "    </tr>\n",
        "    <tr>\n",
        "      <th>1653784</th>\n",
        "      <td>-2184</td>\n",
        "      <td> 108</td>\n",
        "      <td> 1977</td>\n",
        "      <td>-1171</td>\n",
        "      <td> 264</td>\n",
        "      <td> 1449</td>\n",
        "      <td> FIX</td>\n",
        "      <td> FIX</td>\n",
        "      <td> GOOD</td>\n",
        "      <td>NaN</td>\n",
        "      <td>NaN</td>\n",
        "      <td>NaN</td>\n",
        "    </tr>\n",
        "    <tr>\n",
        "      <th>1653788</th>\n",
        "      <td>-2189</td>\n",
        "      <td> 113</td>\n",
        "      <td> 1981</td>\n",
        "      <td>-1171</td>\n",
        "      <td> 288</td>\n",
        "      <td> 1453</td>\n",
        "      <td> FIX</td>\n",
        "      <td> FIX</td>\n",
        "      <td> GOOD</td>\n",
        "      <td>NaN</td>\n",
        "      <td>NaN</td>\n",
        "      <td>NaN</td>\n",
        "    </tr>\n",
        "    <tr>\n",
        "      <th>1653792</th>\n",
        "      <td>-2195</td>\n",
        "      <td> 119</td>\n",
        "      <td> 1983</td>\n",
        "      <td>-1171</td>\n",
        "      <td> 293</td>\n",
        "      <td> 1458</td>\n",
        "      <td> FIX</td>\n",
        "      <td> FIX</td>\n",
        "      <td> GOOD</td>\n",
        "      <td>NaN</td>\n",
        "      <td>NaN</td>\n",
        "      <td>NaN</td>\n",
        "    </tr>\n",
        "    <tr>\n",
        "      <th>1653796</th>\n",
        "      <td>-2196</td>\n",
        "      <td> 129</td>\n",
        "      <td> 1984</td>\n",
        "      <td>-1190</td>\n",
        "      <td> 293</td>\n",
        "      <td> 1462</td>\n",
        "      <td> FIX</td>\n",
        "      <td> FIX</td>\n",
        "      <td> GOOD</td>\n",
        "      <td>NaN</td>\n",
        "      <td>NaN</td>\n",
        "      <td>NaN</td>\n",
        "    </tr>\n",
        "  </tbody>\n",
        "</table>\n",
        "</div>"
       ],
       "metadata": {},
       "output_type": "pyout",
       "prompt_number": 89,
       "text": [
        "              left                    right                   left right  \\\n",
        "            href x href y pupil area href x href y pupil area flag  flag   \n",
        "rep time                                                                   \n",
        "1   1653772  -2135     81       1969  -1158    264       1449  FIX   FIX   \n",
        "    1653776  -2152     86       1970  -1162    266       1449  FIX   FIX   \n",
        "    1653780  -2168     91       1970  -1165    265       1449  FIX   FIX   \n",
        "    1653784  -2184    108       1977  -1171    264       1449  FIX   FIX   \n",
        "    1653788  -2189    113       1981  -1171    288       1453  FIX   FIX   \n",
        "    1653792  -2195    119       1983  -1171    293       1458  FIX   FIX   \n",
        "    1653796  -2196    129       1984  -1190    293       1462  FIX   FIX   \n",
        "\n",
        "               both                                         \n",
        "            quality frame_time frame_count frame_time_diff  \n",
        "rep time                                                    \n",
        "1   1653772    GOOD        NaN         NaN             NaN  \n",
        "    1653776    GOOD        NaN         NaN             NaN  \n",
        "    1653780    GOOD         -3         NaN              -3  \n",
        "    1653784    GOOD        NaN         NaN             NaN  \n",
        "    1653788    GOOD        NaN         NaN             NaN  \n",
        "    1653792    GOOD        NaN         NaN             NaN  \n",
        "    1653796    GOOD        NaN         NaN             NaN  "
       ]
      }
     ],
     "prompt_number": 89
    },
    {
     "cell_type": "code",
     "collapsed": false,
     "input": [
      "task_data.loc[(1,1653708)]"
     ],
     "language": "python",
     "metadata": {},
     "outputs": [
      {
       "metadata": {},
       "output_type": "pyout",
       "prompt_number": 91,
       "text": [
        "left   href x            -2023\n",
        "       href y             -151\n",
        "       pupil area         1939\n",
        "right  href x            -1026\n",
        "       href y              104\n",
        "       pupil area         1431\n",
        "left   flag                FIX\n",
        "right  flag                FIX\n",
        "both   quality            GOOD\n",
        "       frame_time          NaN\n",
        "       frame_count         NaN\n",
        "       frame_time_diff     NaN\n",
        "Name: (1, 1653708), dtype: object"
       ]
      }
     ],
     "prompt_number": 91
    },
    {
     "cell_type": "code",
     "collapsed": false,
     "input": [
      "len(good_data.index.levels[1])"
     ],
     "language": "python",
     "metadata": {},
     "outputs": [
      {
       "metadata": {},
       "output_type": "pyout",
       "prompt_number": 55,
       "text": [
        "283991"
       ]
      }
     ],
     "prompt_number": 55
    },
    {
     "cell_type": "code",
     "collapsed": false,
     "input": [
      "selection.shape"
     ],
     "language": "python",
     "metadata": {},
     "outputs": [
      {
       "metadata": {},
       "output_type": "pyout",
       "prompt_number": 53,
       "text": [
        "(7, 9)"
       ]
      }
     ],
     "prompt_number": 53
    },
    {
     "cell_type": "code",
     "collapsed": false,
     "input": [
      "selection"
     ],
     "language": "python",
     "metadata": {},
     "outputs": [
      {
       "html": [
        "<div style=\"max-height:1000px;max-width:1500px;overflow:auto;\">\n",
        "<table border=\"1\" class=\"dataframe\">\n",
        "  <thead>\n",
        "    <tr>\n",
        "      <th></th>\n",
        "      <th></th>\n",
        "      <th colspan=\"3\" halign=\"left\">left</th>\n",
        "      <th colspan=\"3\" halign=\"left\">right</th>\n",
        "      <th>left</th>\n",
        "      <th>right</th>\n",
        "      <th>both</th>\n",
        "    </tr>\n",
        "    <tr>\n",
        "      <th></th>\n",
        "      <th></th>\n",
        "      <th>href x</th>\n",
        "      <th>href y</th>\n",
        "      <th>pupil area</th>\n",
        "      <th>href x</th>\n",
        "      <th>href y</th>\n",
        "      <th>pupil area</th>\n",
        "      <th>flag</th>\n",
        "      <th>flag</th>\n",
        "      <th>quality</th>\n",
        "    </tr>\n",
        "    <tr>\n",
        "      <th>rep</th>\n",
        "      <th>time</th>\n",
        "      <th></th>\n",
        "      <th></th>\n",
        "      <th></th>\n",
        "      <th></th>\n",
        "      <th></th>\n",
        "      <th></th>\n",
        "      <th></th>\n",
        "      <th></th>\n",
        "      <th></th>\n",
        "    </tr>\n",
        "  </thead>\n",
        "  <tbody>\n",
        "    <tr>\n",
        "      <th rowspan=\"7\" valign=\"top\">1</th>\n",
        "      <th>1657052</th>\n",
        "      <td>NaN</td>\n",
        "      <td>NaN</td>\n",
        "      <td> 0</td>\n",
        "      <td> 3595</td>\n",
        "      <td>-2080</td>\n",
        "      <td> 1228</td>\n",
        "      <td> BLINK</td>\n",
        "      <td> SACC</td>\n",
        "      <td> GOOD</td>\n",
        "    </tr>\n",
        "    <tr>\n",
        "      <th>1657056</th>\n",
        "      <td>NaN</td>\n",
        "      <td>NaN</td>\n",
        "      <td> 0</td>\n",
        "      <td> 3566</td>\n",
        "      <td>-1770</td>\n",
        "      <td> 1320</td>\n",
        "      <td> BLINK</td>\n",
        "      <td> SACC</td>\n",
        "      <td> GOOD</td>\n",
        "    </tr>\n",
        "    <tr>\n",
        "      <th>1657060</th>\n",
        "      <td>NaN</td>\n",
        "      <td>NaN</td>\n",
        "      <td> 0</td>\n",
        "      <td> 3546</td>\n",
        "      <td>-1739</td>\n",
        "      <td> 1338</td>\n",
        "      <td> BLINK</td>\n",
        "      <td> SACC</td>\n",
        "      <td> GOOD</td>\n",
        "    </tr>\n",
        "    <tr>\n",
        "      <th>1657064</th>\n",
        "      <td>NaN</td>\n",
        "      <td>NaN</td>\n",
        "      <td> 0</td>\n",
        "      <td> 3483</td>\n",
        "      <td>-1503</td>\n",
        "      <td> 1372</td>\n",
        "      <td> BLINK</td>\n",
        "      <td> SACC</td>\n",
        "      <td> GOOD</td>\n",
        "    </tr>\n",
        "    <tr>\n",
        "      <th>1657068</th>\n",
        "      <td>NaN</td>\n",
        "      <td>NaN</td>\n",
        "      <td> 0</td>\n",
        "      <td> 3471</td>\n",
        "      <td>-1485</td>\n",
        "      <td> 1424</td>\n",
        "      <td> BLINK</td>\n",
        "      <td> SACC</td>\n",
        "      <td> GOOD</td>\n",
        "    </tr>\n",
        "    <tr>\n",
        "      <th>1657072</th>\n",
        "      <td>NaN</td>\n",
        "      <td>NaN</td>\n",
        "      <td> 0</td>\n",
        "      <td> 3496</td>\n",
        "      <td>-1461</td>\n",
        "      <td> 1500</td>\n",
        "      <td> BLINK</td>\n",
        "      <td> SACC</td>\n",
        "      <td> GOOD</td>\n",
        "    </tr>\n",
        "    <tr>\n",
        "      <th>1657076</th>\n",
        "      <td>NaN</td>\n",
        "      <td>NaN</td>\n",
        "      <td> 0</td>\n",
        "      <td> 3518</td>\n",
        "      <td>-1352</td>\n",
        "      <td> 1550</td>\n",
        "      <td> BLINK</td>\n",
        "      <td> SACC</td>\n",
        "      <td> GOOD</td>\n",
        "    </tr>\n",
        "  </tbody>\n",
        "</table>\n",
        "</div>"
       ],
       "metadata": {},
       "output_type": "pyout",
       "prompt_number": 48,
       "text": [
        "              left                    right                     left right  \\\n",
        "            href x href y pupil area href x href y pupil area   flag  flag   \n",
        "rep time                                                                     \n",
        "1   1657052    NaN    NaN          0   3595  -2080       1228  BLINK  SACC   \n",
        "    1657056    NaN    NaN          0   3566  -1770       1320  BLINK  SACC   \n",
        "    1657060    NaN    NaN          0   3546  -1739       1338  BLINK  SACC   \n",
        "    1657064    NaN    NaN          0   3483  -1503       1372  BLINK  SACC   \n",
        "    1657068    NaN    NaN          0   3471  -1485       1424  BLINK  SACC   \n",
        "    1657072    NaN    NaN          0   3496  -1461       1500  BLINK  SACC   \n",
        "    1657076    NaN    NaN          0   3518  -1352       1550  BLINK  SACC   \n",
        "\n",
        "               both  \n",
        "            quality  \n",
        "rep time             \n",
        "1   1657052    GOOD  \n",
        "    1657056    GOOD  \n",
        "    1657060    GOOD  \n",
        "    1657064    GOOD  \n",
        "    1657068    GOOD  \n",
        "    1657072    GOOD  \n",
        "    1657076    GOOD  "
       ]
      }
     ],
     "prompt_number": 48
    },
    {
     "cell_type": "code",
     "collapsed": false,
     "input": [
      "good_data.index.levels[1]"
     ],
     "language": "python",
     "metadata": {},
     "outputs": [
      {
       "metadata": {},
       "output_type": "pyout",
       "prompt_number": 47,
       "text": [
        "Int64Index([1653060, 1653064, 1653068, 1653072, 1653076, 1653080, 1653084, 1653088, 1653092, 1653096, 1653100, 1653104, 1653108, 1653112, 1653116, 1653120, 1653124, 1653128, 1653132, 1653136, 1653140, 1653144, 1653148, 1653152, 1653156, 1653160, 1653164, 1653168, 1653172, 1653176, 1653180, 1653184, 1653188, 1653192, 1653196, 1653200, 1653204, 1653208, 1653212, 1653216, 1653220, 1653224, 1653228, 1653232, 1653236, 1653240, 1653244, 1653248, 1653252, 1653256, 1653260, 1653264, 1653268, 1653272, 1653276, 1653280, 1653284, 1653288, 1653292, 1653296, 1653300, 1653304, 1653308, 1653312, 1653316, 1653320, 1653324, 1653328, 1653332, 1653336, 1653340, 1653344, 1653348, 1653352, 1653356, 1653360, 1653364, 1653368, 1653372, 1653376, 1653380, 1653384, 1653388, 1653392, 1653396, 1653400, 1653404, 1653408, 1653412, 1653416, 1653420, 1653424, 1653428, 1653432, 1653436, 1653440, 1653444, 1653448, 1653452, 1653456, ...], dtype='int64')"
       ]
      }
     ],
     "prompt_number": 47
    },
    {
     "cell_type": "code",
     "collapsed": false,
     "input": [
      "frame"
     ],
     "language": "python",
     "metadata": {},
     "outputs": [
      {
       "metadata": {},
       "output_type": "pyout",
       "prompt_number": 6,
       "text": [
        "time         1674617\n",
        "press num       4000\n",
        "Name: 4000, dtype: int64"
       ]
      }
     ],
     "prompt_number": 6
    },
    {
     "cell_type": "code",
     "collapsed": false,
     "input": [
      "task_data.loc[1,1653080]"
     ],
     "language": "python",
     "metadata": {},
     "outputs": [
      {
       "metadata": {},
       "output_type": "pyout",
       "prompt_number": 73,
       "text": [
        "left   href x        -713\n",
        "       href y         -28\n",
        "       pupil area    1729\n",
        "right  href x         387\n",
        "       href y         172\n",
        "       pupil area    1335\n",
        "left   flag           FIX\n",
        "right  flag           FIX\n",
        "both   quality       GOOD\n",
        "Name: (1, 1653080), dtype: object"
       ]
      }
     ],
     "prompt_number": 73
    },
    {
     "cell_type": "code",
     "collapsed": false,
     "input": [
      "print frame['time']\n",
      "task_data.loc[1,2789032]"
     ],
     "language": "python",
     "metadata": {},
     "outputs": [
      {
       "output_type": "stream",
       "stream": "stdout",
       "text": [
        "3107422\n"
       ]
      },
      {
       "metadata": {},
       "output_type": "pyout",
       "prompt_number": 30,
       "text": [
        "left   href x        4881\n",
        "       href y        -567\n",
        "       pupil area    2404\n",
        "right  href x        7115\n",
        "       href y         329\n",
        "       pupil area    2376\n",
        "left   flag           FIX\n",
        "right  flag           FIX\n",
        "both   quality       GOOD\n",
        "Name: (1, 2789032), dtype: object"
       ]
      }
     ],
     "prompt_number": 30
    },
    {
     "cell_type": "code",
     "collapsed": false,
     "input": [
      "left_ndsref = np.array([[10, 10, 100.]]).T\n",
      "right_ndsref = np.array([[7, 12, 100.]]).T"
     ],
     "language": "python",
     "metadata": {},
     "outputs": [],
     "prompt_number": 9
    },
    {
     "cell_type": "code",
     "collapsed": false,
     "input": [
      "ipd=6.5"
     ],
     "language": "python",
     "metadata": {},
     "outputs": [],
     "prompt_number": 13
    },
    {
     "cell_type": "code",
     "collapsed": false,
     "input": [
      "p1 = np.array([[-ipd/2, 0, 0]]).T\n",
      "p2 = left_ndsref - p1\n",
      "p2 = p2 / np.linalg.norm(p2)\n",
      "p2 = p2 + p1"
     ],
     "language": "python",
     "metadata": {},
     "outputs": [],
     "prompt_number": 14
    },
    {
     "cell_type": "code",
     "collapsed": false,
     "input": [
      "q1 = np.array([[ipd/2, 0, 0]]).T\n",
      "q2 = right_ndsref - q1\n",
      "q2 = q2 / np.linalg.norm(q2)\n",
      "q2 = q2 + q1"
     ],
     "language": "python",
     "metadata": {},
     "outputs": [],
     "prompt_number": 21
    },
    {
     "cell_type": "code",
     "collapsed": false,
     "input": [
      "X = np.matrix([[p1[0,0], p2[0,0], q1[0,0], q2[0,0]]])\n",
      "Y = np.matrix([[p1[1,0], p2[1,0], q1[1,0], q2[1,0]]])\n",
      "Z = np.matrix([[p1[2,0], p2[2,0], q1[2,0], q2[2,0]]])\n",
      "A = Z.T"
     ],
     "language": "python",
     "metadata": {},
     "outputs": [],
     "prompt_number": 52
    },
    {
     "cell_type": "code",
     "collapsed": false,
     "input": [
      "u = np.linalg.inv(A.T * A) * A.T * Y.T\n",
      "u = np.array([[0, u, 0]])"
     ],
     "language": "python",
     "metadata": {},
     "outputs": [],
     "prompt_number": 56
    },
    {
     "cell_type": "code",
     "collapsed": false,
     "input": [
      "p2_new = np.array([[p2[0,0], u[0,1]*p2[2,0], p2[2,0]]]).T\n",
      "q2_new = np.array([[q2[0,0], u[0,1]*q2[2,0], q2[2,0]]]).T"
     ],
     "language": "python",
     "metadata": {},
     "outputs": [],
     "prompt_number": 61
    },
    {
     "cell_type": "code",
     "collapsed": false,
     "input": [
      "q2_new = q2_new - q1\n",
      "q2_new = q2_new / np.linalg.norm(q2_new)\n",
      "q2_new = q2_new + q1"
     ],
     "language": "python",
     "metadata": {},
     "outputs": [],
     "prompt_number": 62
    },
    {
     "cell_type": "code",
     "collapsed": false,
     "input": [
      "p2_new = p2_new - p1\n",
      "p2_new = p2_new / np.linalg.norm(p2_new)\n",
      "p2_new = p2_new + p1"
     ],
     "language": "python",
     "metadata": {},
     "outputs": [],
     "prompt_number": 64
    },
    {
     "cell_type": "code",
     "collapsed": false,
     "input": [
      "P = np.array([[u[0,0], -1, u[0,1]]])\n",
      "P = P / np.linalg.norm(P)"
     ],
     "language": "python",
     "metadata": {},
     "outputs": [],
     "prompt_number": 66
    },
    {
     "cell_type": "code",
     "collapsed": false,
     "input": [
      "thp = np.degrees(np.arcsin(np.dot(P, p2)))\n",
      "thq = np.degrees(np.arcsin(np.dot(P, q2)))"
     ],
     "language": "python",
     "metadata": {},
     "outputs": [],
     "prompt_number": 70
    },
    {
     "cell_type": "code",
     "collapsed": false,
     "input": [
      "thp_new = np.degrees(np.arcsin(np.dot(P, p2_new)))\n",
      "thq_new = np.degrees(np.arcsin(np.dot(P, q2_new)))"
     ],
     "language": "python",
     "metadata": {},
     "outputs": [],
     "prompt_number": 71
    },
    {
     "cell_type": "code",
     "collapsed": false,
     "input": [
      "thq"
     ],
     "language": "python",
     "metadata": {},
     "outputs": [
      {
       "metadata": {},
       "output_type": "pyout",
       "prompt_number": 76,
       "text": [
        "array([[-0.56183033]])"
       ]
      }
     ],
     "prompt_number": 76
    },
    {
     "cell_type": "code",
     "collapsed": false,
     "input": [],
     "language": "python",
     "metadata": {},
     "outputs": []
    }
   ],
   "metadata": {}
  }
 ]
}