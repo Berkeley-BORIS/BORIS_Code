{
 "metadata": {
  "name": "",
  "signature": "sha256:f5c47a48f67c5cd59c6ba047c7aa00502f800a9d2e518cd316da91d60b55bde0"
 },
 "nbformat": 3,
 "nbformat_minor": 0,
 "worksheets": [
  {
   "cells": [
    {
     "cell_type": "code",
     "collapsed": false,
     "input": [
      "%matplotlib inline\n",
      "\n",
      "import numpy as np\n",
      "import pandas as pd\n",
      "import matplotlib.pyplot as plt\n",
      "import cv2"
     ],
     "language": "python",
     "metadata": {},
     "outputs": [],
     "prompt_number": 3
    },
    {
     "cell_type": "code",
     "collapsed": false,
     "input": [
      "# Come back to opencv"
     ],
     "language": "python",
     "metadata": {},
     "outputs": [],
     "prompt_number": 4
    },
    {
     "cell_type": "code",
     "collapsed": false,
     "input": [],
     "language": "python",
     "metadata": {},
     "outputs": [],
     "prompt_number": 4
    },
    {
     "cell_type": "code",
     "collapsed": false,
     "input": [
      "left_ndsref = np.array([[10, 10, 100.]]).T\n",
      "right_ndsref = np.array([[7, 12, 100.]]).T"
     ],
     "language": "python",
     "metadata": {},
     "outputs": [],
     "prompt_number": 9
    },
    {
     "cell_type": "code",
     "collapsed": false,
     "input": [
      "ipd=6.5"
     ],
     "language": "python",
     "metadata": {},
     "outputs": [],
     "prompt_number": 13
    },
    {
     "cell_type": "code",
     "collapsed": false,
     "input": [
      "p1 = np.array([[-ipd/2, 0, 0]]).T\n",
      "p2 = left_ndsref - p1\n",
      "p2 = p2 / np.linalg.norm(p2)\n",
      "p2 = p2 + p1"
     ],
     "language": "python",
     "metadata": {},
     "outputs": [],
     "prompt_number": 14
    },
    {
     "cell_type": "code",
     "collapsed": false,
     "input": [
      "q1 = np.array([[ipd/2, 0, 0]]).T\n",
      "q2 = right_ndsref - q1\n",
      "q2 = q2 / np.linalg.norm(q2)\n",
      "q2 = q2 + q1"
     ],
     "language": "python",
     "metadata": {},
     "outputs": [],
     "prompt_number": 21
    },
    {
     "cell_type": "code",
     "collapsed": false,
     "input": [
      "X = np.matrix([[p1[0,0], p2[0,0], q1[0,0], q2[0,0]]])\n",
      "Y = np.matrix([[p1[1,0], p2[1,0], q1[1,0], q2[1,0]]])\n",
      "Z = np.matrix([[p1[2,0], p2[2,0], q1[2,0], q2[2,0]]])\n",
      "A = Z.T"
     ],
     "language": "python",
     "metadata": {},
     "outputs": [],
     "prompt_number": 52
    },
    {
     "cell_type": "code",
     "collapsed": false,
     "input": [
      "u = np.linalg.inv(A.T * A) * A.T * Y.T\n",
      "u = np.array([[0, u, 0]])"
     ],
     "language": "python",
     "metadata": {},
     "outputs": [],
     "prompt_number": 56
    },
    {
     "cell_type": "code",
     "collapsed": false,
     "input": [
      "p2_new = np.array([[p2[0,0], u[0,1]*p2[2,0], p2[2,0]]]).T\n",
      "q2_new = np.array([[q2[0,0], u[0,1]*q2[2,0], q2[2,0]]]).T"
     ],
     "language": "python",
     "metadata": {},
     "outputs": [],
     "prompt_number": 61
    },
    {
     "cell_type": "code",
     "collapsed": false,
     "input": [
      "q2_new = q2_new - q1\n",
      "q2_new = q2_new / np.linalg.norm(q2_new)\n",
      "q2_new = q2_new + q1"
     ],
     "language": "python",
     "metadata": {},
     "outputs": [],
     "prompt_number": 62
    },
    {
     "cell_type": "code",
     "collapsed": false,
     "input": [
      "p2_new = p2_new - p1\n",
      "p2_new = p2_new / np.linalg.norm(p2_new)\n",
      "p2_new = p2_new + p1"
     ],
     "language": "python",
     "metadata": {},
     "outputs": [],
     "prompt_number": 64
    },
    {
     "cell_type": "code",
     "collapsed": false,
     "input": [
      "P = np.array([[u[0,0], -1, u[0,1]]])\n",
      "P = P / np.linalg.norm(P)"
     ],
     "language": "python",
     "metadata": {},
     "outputs": [],
     "prompt_number": 66
    },
    {
     "cell_type": "code",
     "collapsed": false,
     "input": [
      "thp = np.degrees(np.arcsin(np.dot(P, p2)))\n",
      "thq = np.degrees(np.arcsin(np.dot(P, q2)))"
     ],
     "language": "python",
     "metadata": {},
     "outputs": [],
     "prompt_number": 70
    },
    {
     "cell_type": "code",
     "collapsed": false,
     "input": [
      "thp_new = np.degrees(np.arcsin(np.dot(P, p2_new)))\n",
      "thq_new = np.degrees(np.arcsin(np.dot(P, q2_new)))"
     ],
     "language": "python",
     "metadata": {},
     "outputs": [],
     "prompt_number": 71
    },
    {
     "cell_type": "code",
     "collapsed": false,
     "input": [
      "thq"
     ],
     "language": "python",
     "metadata": {},
     "outputs": [
      {
       "metadata": {},
       "output_type": "pyout",
       "prompt_number": 76,
       "text": [
        "array([[-0.56183033]])"
       ]
      }
     ],
     "prompt_number": 76
    },
    {
     "cell_type": "code",
     "collapsed": false,
     "input": [],
     "language": "python",
     "metadata": {},
     "outputs": []
    }
   ],
   "metadata": {}
  }
 ]
}