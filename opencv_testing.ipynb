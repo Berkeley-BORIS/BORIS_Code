{
 "metadata": {
  "name": "",
  "signature": "sha256:3fb13e70dfae5810545fffa214ceb28b87e9583b47e99aa630bc7eb8a4d8eaf1"
 },
 "nbformat": 3,
 "nbformat_minor": 0,
 "worksheets": [
  {
   "cells": [
    {
     "cell_type": "code",
     "collapsed": false,
     "input": [
      "%matplotlib inline\n",
      "\n",
      "import numpy as np\n",
      "import pandas as pd\n",
      "import matplotlib.pyplot as plt\n",
      "import cv2"
     ],
     "language": "python",
     "metadata": {},
     "outputs": [],
     "prompt_number": 2
    },
    {
     "cell_type": "code",
     "collapsed": false,
     "input": [
      "# Come back to opencv"
     ],
     "language": "python",
     "metadata": {},
     "outputs": [],
     "prompt_number": 4
    },
    {
     "cell_type": "markdown",
     "metadata": {},
     "source": [
      "## Testing frame syncing"
     ]
    },
    {
     "cell_type": "code",
     "collapsed": false,
     "input": [
      "frames = pd.read_hdf(\"/Users/bwsprague/GradSchool/Research/BerkeleyVisionStats/testing/parser_output/frame_output.h5\", 'frames')\n",
      "task_data = pd.read_hdf(\"/Users/bwsprague/GradSchool/Research/BerkeleyVisionStats/testing/parser_output/task_output.h5\", 'task')"
     ],
     "language": "python",
     "metadata": {},
     "outputs": [],
     "prompt_number": 53
    },
    {
     "cell_type": "code",
     "collapsed": false,
     "input": [
      "task_data = task_data.swaplevel('rep', 'time', axis=0)"
     ],
     "language": "python",
     "metadata": {},
     "outputs": [],
     "prompt_number": 41
    },
    {
     "cell_type": "code",
     "collapsed": false,
     "input": [
      "count = 0\n",
      "for i, frame in frames.iterrows():\n",
      "    time_range_mask = (frame['time']-15 < task_data.index.levels[1]) & \\\n",
      "                        (task_data.index.levels[1] < frame['time']+15)\n",
      "        \n",
      "    selection = task_data.loc[time_range_mask]\n",
      "    selection = selection[selection['both', 'quality'] == 'GOOD']\n",
      "    \n",
      "    count += 1\n",
      "    if count > 4000:\n",
      "        break"
     ],
     "language": "python",
     "metadata": {},
     "outputs": [],
     "prompt_number": 87
    },
    {
     "cell_type": "code",
     "collapsed": false,
     "input": [
      "selection"
     ],
     "language": "python",
     "metadata": {},
     "outputs": [
      {
       "html": [
        "<div style=\"max-height:1000px;max-width:1500px;overflow:auto;\">\n",
        "<table border=\"1\" class=\"dataframe\">\n",
        "  <thead>\n",
        "    <tr>\n",
        "      <th></th>\n",
        "      <th></th>\n",
        "      <th colspan=\"3\" halign=\"left\">left</th>\n",
        "      <th colspan=\"3\" halign=\"left\">right</th>\n",
        "      <th>left</th>\n",
        "      <th>right</th>\n",
        "      <th>both</th>\n",
        "    </tr>\n",
        "    <tr>\n",
        "      <th></th>\n",
        "      <th></th>\n",
        "      <th>href x</th>\n",
        "      <th>href y</th>\n",
        "      <th>pupil area</th>\n",
        "      <th>href x</th>\n",
        "      <th>href y</th>\n",
        "      <th>pupil area</th>\n",
        "      <th>flag</th>\n",
        "      <th>flag</th>\n",
        "      <th>quality</th>\n",
        "    </tr>\n",
        "    <tr>\n",
        "      <th>rep</th>\n",
        "      <th>time</th>\n",
        "      <th></th>\n",
        "      <th></th>\n",
        "      <th></th>\n",
        "      <th></th>\n",
        "      <th></th>\n",
        "      <th></th>\n",
        "      <th></th>\n",
        "      <th></th>\n",
        "      <th></th>\n",
        "    </tr>\n",
        "  </thead>\n",
        "  <tbody>\n",
        "    <tr>\n",
        "      <th rowspan=\"7\" valign=\"top\">1</th>\n",
        "      <th>1674604</th>\n",
        "      <td>-227</td>\n",
        "      <td> 858</td>\n",
        "      <td> 2949</td>\n",
        "      <td> 422</td>\n",
        "      <td> 737</td>\n",
        "      <td> 2229</td>\n",
        "      <td> FIX</td>\n",
        "      <td> SACC</td>\n",
        "      <td> GOOD</td>\n",
        "    </tr>\n",
        "    <tr>\n",
        "      <th>1674608</th>\n",
        "      <td>-219</td>\n",
        "      <td> 890</td>\n",
        "      <td> 2952</td>\n",
        "      <td> 427</td>\n",
        "      <td> 750</td>\n",
        "      <td> 2231</td>\n",
        "      <td> FIX</td>\n",
        "      <td> SACC</td>\n",
        "      <td> GOOD</td>\n",
        "    </tr>\n",
        "    <tr>\n",
        "      <th>1674612</th>\n",
        "      <td>-220</td>\n",
        "      <td> 915</td>\n",
        "      <td> 2967</td>\n",
        "      <td> 453</td>\n",
        "      <td> 818</td>\n",
        "      <td> 2239</td>\n",
        "      <td> FIX</td>\n",
        "      <td> SACC</td>\n",
        "      <td> GOOD</td>\n",
        "    </tr>\n",
        "    <tr>\n",
        "      <th>1674616</th>\n",
        "      <td>-220</td>\n",
        "      <td> 917</td>\n",
        "      <td> 2972</td>\n",
        "      <td> 455</td>\n",
        "      <td> 854</td>\n",
        "      <td> 2248</td>\n",
        "      <td> FIX</td>\n",
        "      <td>  FIX</td>\n",
        "      <td> GOOD</td>\n",
        "    </tr>\n",
        "    <tr>\n",
        "      <th>1674620</th>\n",
        "      <td>-213</td>\n",
        "      <td> 939</td>\n",
        "      <td> 2977</td>\n",
        "      <td> 458</td>\n",
        "      <td> 862</td>\n",
        "      <td> 2256</td>\n",
        "      <td> FIX</td>\n",
        "      <td>  FIX</td>\n",
        "      <td> GOOD</td>\n",
        "    </tr>\n",
        "    <tr>\n",
        "      <th>1674624</th>\n",
        "      <td>-205</td>\n",
        "      <td> 946</td>\n",
        "      <td> 2979</td>\n",
        "      <td> 464</td>\n",
        "      <td> 871</td>\n",
        "      <td> 2267</td>\n",
        "      <td> FIX</td>\n",
        "      <td>  FIX</td>\n",
        "      <td> GOOD</td>\n",
        "    </tr>\n",
        "    <tr>\n",
        "      <th>1674628</th>\n",
        "      <td>-197</td>\n",
        "      <td> 970</td>\n",
        "      <td> 2981</td>\n",
        "      <td> 470</td>\n",
        "      <td> 894</td>\n",
        "      <td> 2270</td>\n",
        "      <td> FIX</td>\n",
        "      <td>  FIX</td>\n",
        "      <td> GOOD</td>\n",
        "    </tr>\n",
        "  </tbody>\n",
        "</table>\n",
        "</div>"
       ],
       "metadata": {},
       "output_type": "pyout",
       "prompt_number": 88,
       "text": [
        "              left                    right                   left right  \\\n",
        "            href x href y pupil area href x href y pupil area flag  flag   \n",
        "rep time                                                                   \n",
        "1   1674604   -227    858       2949    422    737       2229  FIX  SACC   \n",
        "    1674608   -219    890       2952    427    750       2231  FIX  SACC   \n",
        "    1674612   -220    915       2967    453    818       2239  FIX  SACC   \n",
        "    1674616   -220    917       2972    455    854       2248  FIX   FIX   \n",
        "    1674620   -213    939       2977    458    862       2256  FIX   FIX   \n",
        "    1674624   -205    946       2979    464    871       2267  FIX   FIX   \n",
        "    1674628   -197    970       2981    470    894       2270  FIX   FIX   \n",
        "\n",
        "               both  \n",
        "            quality  \n",
        "rep time             \n",
        "1   1674604    GOOD  \n",
        "    1674608    GOOD  \n",
        "    1674612    GOOD  \n",
        "    1674616    GOOD  \n",
        "    1674620    GOOD  \n",
        "    1674624    GOOD  \n",
        "    1674628    GOOD  "
       ]
      }
     ],
     "prompt_number": 88
    },
    {
     "cell_type": "code",
     "collapsed": false,
     "input": [
      "frame"
     ],
     "language": "python",
     "metadata": {},
     "outputs": [
      {
       "metadata": {},
       "output_type": "pyout",
       "prompt_number": 77,
       "text": [
        "time         1707951\n",
        "press num       5000\n",
        "Name: 5000, dtype: int64"
       ]
      }
     ],
     "prompt_number": 77
    },
    {
     "cell_type": "code",
     "collapsed": false,
     "input": [
      "task_data.loc[1,1653080]"
     ],
     "language": "python",
     "metadata": {},
     "outputs": [
      {
       "metadata": {},
       "output_type": "pyout",
       "prompt_number": 73,
       "text": [
        "left   href x        -713\n",
        "       href y         -28\n",
        "       pupil area    1729\n",
        "right  href x         387\n",
        "       href y         172\n",
        "       pupil area    1335\n",
        "left   flag           FIX\n",
        "right  flag           FIX\n",
        "both   quality       GOOD\n",
        "Name: (1, 1653080), dtype: object"
       ]
      }
     ],
     "prompt_number": 73
    },
    {
     "cell_type": "code",
     "collapsed": false,
     "input": [
      "print frame['time']\n",
      "task_data.loc[1,2789032]"
     ],
     "language": "python",
     "metadata": {},
     "outputs": [
      {
       "output_type": "stream",
       "stream": "stdout",
       "text": [
        "3107422\n"
       ]
      },
      {
       "metadata": {},
       "output_type": "pyout",
       "prompt_number": 30,
       "text": [
        "left   href x        4881\n",
        "       href y        -567\n",
        "       pupil area    2404\n",
        "right  href x        7115\n",
        "       href y         329\n",
        "       pupil area    2376\n",
        "left   flag           FIX\n",
        "right  flag           FIX\n",
        "both   quality       GOOD\n",
        "Name: (1, 2789032), dtype: object"
       ]
      }
     ],
     "prompt_number": 30
    },
    {
     "cell_type": "code",
     "collapsed": false,
     "input": [
      "left_ndsref = np.array([[10, 10, 100.]]).T\n",
      "right_ndsref = np.array([[7, 12, 100.]]).T"
     ],
     "language": "python",
     "metadata": {},
     "outputs": [],
     "prompt_number": 9
    },
    {
     "cell_type": "code",
     "collapsed": false,
     "input": [
      "ipd=6.5"
     ],
     "language": "python",
     "metadata": {},
     "outputs": [],
     "prompt_number": 13
    },
    {
     "cell_type": "code",
     "collapsed": false,
     "input": [
      "p1 = np.array([[-ipd/2, 0, 0]]).T\n",
      "p2 = left_ndsref - p1\n",
      "p2 = p2 / np.linalg.norm(p2)\n",
      "p2 = p2 + p1"
     ],
     "language": "python",
     "metadata": {},
     "outputs": [],
     "prompt_number": 14
    },
    {
     "cell_type": "code",
     "collapsed": false,
     "input": [
      "q1 = np.array([[ipd/2, 0, 0]]).T\n",
      "q2 = right_ndsref - q1\n",
      "q2 = q2 / np.linalg.norm(q2)\n",
      "q2 = q2 + q1"
     ],
     "language": "python",
     "metadata": {},
     "outputs": [],
     "prompt_number": 21
    },
    {
     "cell_type": "code",
     "collapsed": false,
     "input": [
      "X = np.matrix([[p1[0,0], p2[0,0], q1[0,0], q2[0,0]]])\n",
      "Y = np.matrix([[p1[1,0], p2[1,0], q1[1,0], q2[1,0]]])\n",
      "Z = np.matrix([[p1[2,0], p2[2,0], q1[2,0], q2[2,0]]])\n",
      "A = Z.T"
     ],
     "language": "python",
     "metadata": {},
     "outputs": [],
     "prompt_number": 52
    },
    {
     "cell_type": "code",
     "collapsed": false,
     "input": [
      "u = np.linalg.inv(A.T * A) * A.T * Y.T\n",
      "u = np.array([[0, u, 0]])"
     ],
     "language": "python",
     "metadata": {},
     "outputs": [],
     "prompt_number": 56
    },
    {
     "cell_type": "code",
     "collapsed": false,
     "input": [
      "p2_new = np.array([[p2[0,0], u[0,1]*p2[2,0], p2[2,0]]]).T\n",
      "q2_new = np.array([[q2[0,0], u[0,1]*q2[2,0], q2[2,0]]]).T"
     ],
     "language": "python",
     "metadata": {},
     "outputs": [],
     "prompt_number": 61
    },
    {
     "cell_type": "code",
     "collapsed": false,
     "input": [
      "q2_new = q2_new - q1\n",
      "q2_new = q2_new / np.linalg.norm(q2_new)\n",
      "q2_new = q2_new + q1"
     ],
     "language": "python",
     "metadata": {},
     "outputs": [],
     "prompt_number": 62
    },
    {
     "cell_type": "code",
     "collapsed": false,
     "input": [
      "p2_new = p2_new - p1\n",
      "p2_new = p2_new / np.linalg.norm(p2_new)\n",
      "p2_new = p2_new + p1"
     ],
     "language": "python",
     "metadata": {},
     "outputs": [],
     "prompt_number": 64
    },
    {
     "cell_type": "code",
     "collapsed": false,
     "input": [
      "P = np.array([[u[0,0], -1, u[0,1]]])\n",
      "P = P / np.linalg.norm(P)"
     ],
     "language": "python",
     "metadata": {},
     "outputs": [],
     "prompt_number": 66
    },
    {
     "cell_type": "code",
     "collapsed": false,
     "input": [
      "thp = np.degrees(np.arcsin(np.dot(P, p2)))\n",
      "thq = np.degrees(np.arcsin(np.dot(P, q2)))"
     ],
     "language": "python",
     "metadata": {},
     "outputs": [],
     "prompt_number": 70
    },
    {
     "cell_type": "code",
     "collapsed": false,
     "input": [
      "thp_new = np.degrees(np.arcsin(np.dot(P, p2_new)))\n",
      "thq_new = np.degrees(np.arcsin(np.dot(P, q2_new)))"
     ],
     "language": "python",
     "metadata": {},
     "outputs": [],
     "prompt_number": 71
    },
    {
     "cell_type": "code",
     "collapsed": false,
     "input": [
      "thq"
     ],
     "language": "python",
     "metadata": {},
     "outputs": [
      {
       "metadata": {},
       "output_type": "pyout",
       "prompt_number": 76,
       "text": [
        "array([[-0.56183033]])"
       ]
      }
     ],
     "prompt_number": 76
    },
    {
     "cell_type": "code",
     "collapsed": false,
     "input": [],
     "language": "python",
     "metadata": {},
     "outputs": []
    }
   ],
   "metadata": {}
  }
 ]
}