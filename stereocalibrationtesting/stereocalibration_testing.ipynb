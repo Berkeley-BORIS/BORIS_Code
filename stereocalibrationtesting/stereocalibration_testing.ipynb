{
 "cells": [
  {
   "cell_type": "code",
   "execution_count": 8,
   "metadata": {
    "collapsed": false
   },
   "outputs": [],
   "source": [
    "import stereo_calibration_orig"
   ]
  },
  {
   "cell_type": "code",
   "execution_count": 77,
   "metadata": {
    "collapsed": false
   },
   "outputs": [
    {
     "data": {
      "text/plain": [
       "<module 'stereo_calibration_orig' from 'stereo_calibration_orig.pyc'>"
      ]
     },
     "execution_count": 77,
     "metadata": {},
     "output_type": "execute_result"
    }
   ],
   "source": [
    "reload(stereo_calibration_orig)"
   ]
  },
  {
   "cell_type": "code",
   "execution_count": 78,
   "metadata": {
    "collapsed": false
   },
   "outputs": [
    {
     "name": "stdout",
     "output_type": "stream",
     "text": [
      "\n",
      " Usable stereo pairs: 8\n",
      "Calibrating camera 1...\n",
      "\n",
      "Estimated intrinsic parameters for camera 1:\n",
      "[610.9481207211951, 0.0, 318.12086912311992]\n",
      "[0.0, 609.52109149674436, 233.06007951171833]\n",
      "[0.0, 0.0, 1.0]\n",
      "\n",
      "Estimated distortion parameters for camera 1:\n",
      "[[ -6.80216718e-02]\n",
      " [  2.33603752e-02]\n",
      " [  1.33142406e-03]\n",
      " [  1.15766893e-03]\n",
      " [ -5.37137490e+00]\n",
      " [  3.88214185e-01]\n",
      " [ -1.11397980e+00]\n",
      " [ -2.05668216e+00]]\n",
      "Calibrating camera 2...\n",
      "\n",
      "Estimated intrinsic parameters for camera 2:\n",
      "[582.6069691047386, 0.0, 309.17396059654061]\n",
      "[0.0, 583.50844624253864, 253.27482995145786]\n",
      "[0.0, 0.0, 1.0]\n",
      "\n",
      "Estimated distortion parameters for camera 2:\n",
      "[[ -1.83352636e-01]\n",
      " [  2.39417311e+00]\n",
      " [ -8.83783160e-03]\n",
      " [  4.79079244e-03]\n",
      " [ -1.13753719e+01]\n",
      " [  1.67181320e-01]\n",
      " [  2.38260202e+00]\n",
      " [ -1.21105595e+01]]\n",
      "\n",
      " rms pixel error:\n",
      "cam1 orig: 0.20462018928\n",
      "cam2 orig: 0.212817513008\n",
      "\n",
      " Stereo estimating...\n",
      "\n",
      "Estimated extrinsic parameters between cameras 1 and 2:\n",
      "Rotation:\n",
      "[0.99998945079428081, -0.0021385226474092086, -0.0040650979126166395]\n",
      "[0.0021324673513003381, 0.99999661126395967, -0.0014933330481494136]\n",
      "[0.0040682776636164321, 0.0014846486060933776, 0.99999062242371461]\n",
      "\n",
      "Translation:\n",
      "[-6.4707429915861283, 0.0052970674893012661, -0.19693349363295343]\n",
      "\n",
      " rms pixel error:\n",
      "stereo: 0.209880822093\n",
      "\n",
      "Saving all parameters to the folder with checkerboard images...\n"
     ]
    }
   ],
   "source": [
    "stereo_calibration_orig.stereo_calibration('/Users/emily/Documents/ProjectsCurrent/BORIS/session_data/raw/stereocalibration/kre/kre_cafe/',10)"
   ]
  },
  {
   "cell_type": "code",
   "execution_count": 18,
   "metadata": {
    "collapsed": false
   },
   "outputs": [],
   "source": [
    "import stereocalibration"
   ]
  },
  {
   "cell_type": "code",
   "execution_count": 79,
   "metadata": {
    "collapsed": false
   },
   "outputs": [
    {
     "data": {
      "text/plain": [
       "<module 'stereocalibration' from 'stereocalibration.py'>"
      ]
     },
     "execution_count": 79,
     "metadata": {},
     "output_type": "execute_result"
    }
   ],
   "source": [
    "reload(stereocalibration)"
   ]
  },
  {
   "cell_type": "code",
   "execution_count": 80,
   "metadata": {
    "collapsed": false
   },
   "outputs": [
    {
     "name": "stdout",
     "output_type": "stream",
     "text": [
      "Detecting Circle Grid points...\n",
      "\n",
      " Usable stereo pairs: 8\n",
      "Calibrating camera 1...\n",
      "\n",
      "Estimated intrinsic parameters:\n",
      "[[ 610.94812072    0.          318.12086912]\n",
      " [   0.          609.5210915   233.06007951]\n",
      " [   0.            0.            1.        ]]\n",
      "\n",
      "Estimated distortion parameters:\n",
      "[[ -6.80216718e-02]\n",
      " [  2.33603752e-02]\n",
      " [  1.33142406e-03]\n",
      " [  1.15766893e-03]\n",
      " [ -5.37137490e+00]\n",
      " [  3.88214185e-01]\n",
      " [ -1.11397980e+00]\n",
      " [ -2.05668216e+00]]\n",
      "Calibrating camera 2...\n",
      "\n",
      "Estimated intrinsic parameters:\n",
      "[[ 582.6069691     0.          309.1739606 ]\n",
      " [   0.          583.50844624  253.27482995]\n",
      " [   0.            0.            1.        ]]\n",
      "\n",
      "Estimated distortion parameters:\n",
      "[[ -1.83352636e-01]\n",
      " [  2.39417311e+00]\n",
      " [ -8.83783160e-03]\n",
      " [  4.79079244e-03]\n",
      " [ -1.13753719e+01]\n",
      " [  1.67181320e-01]\n",
      " [  2.38260202e+00]\n",
      " [ -1.21105595e+01]]\n",
      "\n",
      " rms pixel error:\n",
      "cam1 orig: 0.20462018928\n",
      "cam2 orig: 0.212817513008\n",
      "\n",
      " Stereo estimating...\n",
      "\n",
      "Estimated extrinsic parameters between cameras 1 and 2:\n",
      "Rotation:\n",
      "[0.99998945079428081, -0.0021385226474092086, -0.0040650979126166395]\n",
      "[0.0021324673513003381, 0.99999661126395967, -0.0014933330481494136]\n",
      "[0.0040682776636164321, 0.0014846486060933776, 0.99999062242371461]\n",
      "\n",
      "Translation:\n",
      "[-6.4707429915861283, 0.0052970674893012661, -0.19693349363295343]\n",
      "\n",
      " rms pixel error:\n",
      "stereo: 0.209880822093\n",
      "\n",
      "Saving all parameters to the folder with checkerboard images...\n"
     ]
    }
   ],
   "source": [
    "stereocalibration.stereocalibration('/Users/emily/Documents/ProjectsCurrent/BORIS/session_data/raw/stereocalibration/kre/kre_cafe/',10)"
   ]
  },
  {
   "cell_type": "code",
   "execution_count": 50,
   "metadata": {
    "collapsed": false
   },
   "outputs": [],
   "source": [
    "[img1,found1,points1] = stereocalibration.getcirclepoints('/Users/emily/Documents/ProjectsCurrent/BORIS/session_data/raw/stereocalibration/kre/kre_cafe/calibration_frames_2012-08-01/cam1_frame_3.bmp',(4,11))"
   ]
  },
  {
   "cell_type": "code",
   "execution_count": 58,
   "metadata": {
    "collapsed": false
   },
   "outputs": [
    {
     "data": {
      "text/plain": [
       "array([[[ 219.7628479 ,   18.36930275]],\n",
       "\n",
       "       [[ 267.71664429,   16.5026226 ]],\n",
       "\n",
       "       [[ 315.67910767,   15.63172913]],\n",
       "\n",
       "       [[ 363.37298584,   16.02654839]],\n",
       "\n",
       "       [[ 243.35032654,   33.36188507]],\n",
       "\n",
       "       [[ 292.6272583 ,   32.24374771]],\n",
       "\n",
       "       [[ 341.8352356 ,   31.70520973]],\n",
       "\n",
       "       [[ 390.35336304,   32.34250259]],\n",
       "\n",
       "       [[ 217.29748535,   51.06294632]],\n",
       "\n",
       "       [[ 268.30944824,   49.61459351]],\n",
       "\n",
       "       [[ 318.97573853,   48.78683853]],\n",
       "\n",
       "       [[ 369.20889282,   48.73703003]],\n",
       "\n",
       "       [[ 242.25450134,   67.93720245]],\n",
       "\n",
       "       [[ 294.72644043,   67.19091797]],\n",
       "\n",
       "       [[ 346.59976196,   66.63425446]],\n",
       "\n",
       "       [[ 397.45690918,   66.52258301]],\n",
       "\n",
       "       [[ 215.66239929,   88.96458435]],\n",
       "\n",
       "       [[ 268.79644775,   86.31221008]],\n",
       "\n",
       "       [[ 322.51553345,   85.67716217]],\n",
       "\n",
       "       [[ 375.49597168,   85.50339508]],\n",
       "\n",
       "       [[ 241.95217896,  108.1072998 ]],\n",
       "\n",
       "       [[ 296.88250732,  106.02561951]],\n",
       "\n",
       "       [[ 351.79541016,  105.64916992]],\n",
       "\n",
       "       [[ 405.18197632,  105.34880829]],\n",
       "\n",
       "       [[ 213.38812256,  130.8684845 ]],\n",
       "\n",
       "       [[ 269.95883179,  128.73753357]],\n",
       "\n",
       "       [[ 326.39813232,  126.79515839]],\n",
       "\n",
       "       [[ 382.26687622,  126.7082901 ]],\n",
       "\n",
       "       [[ 241.50813293,  152.76509094]],\n",
       "\n",
       "       [[ 299.65142822,  150.85557556]],\n",
       "\n",
       "       [[ 357.33459473,  149.16403198]],\n",
       "\n",
       "       [[ 413.54315186,  148.98297119]],\n",
       "\n",
       "       [[ 211.80941772,  178.01174927]],\n",
       "\n",
       "       [[ 271.31796265,  176.04148865]],\n",
       "\n",
       "       [[ 331.02947998,  174.15356445]],\n",
       "\n",
       "       [[ 389.54516602,  172.65551758]],\n",
       "\n",
       "       [[ 241.26144409,  202.3886261 ]],\n",
       "\n",
       "       [[ 302.612854  ,  200.70613098]],\n",
       "\n",
       "       [[ 363.33374023,  198.58706665]],\n",
       "\n",
       "       [[ 422.38677979,  197.71969604]],\n",
       "\n",
       "       [[ 210.29508972,  230.6212616 ]],\n",
       "\n",
       "       [[ 272.84384155,  228.29325867]],\n",
       "\n",
       "       [[ 335.60922241,  226.56550598]],\n",
       "\n",
       "       [[ 396.95007324,  224.26667786]]], dtype=float32)"
      ]
     },
     "execution_count": 58,
     "metadata": {},
     "output_type": "execute_result"
    }
   ],
   "source": [
    "points1"
   ]
  },
  {
   "cell_type": "code",
   "execution_count": 54,
   "metadata": {
    "collapsed": false
   },
   "outputs": [],
   "source": [
    "import numpy as np\n",
    "num_pts = 11 * 4\n",
    "temp1 = np.zeros( (num_pts,2) )\n",
    "for i in range(num_pts):\n",
    "\ttemp1[i,0]\t=\tpoints1[i,0,0]\n",
    "\ttemp1[i,1]\t=\tpoints1[i,0,1]"
   ]
  },
  {
   "cell_type": "code",
   "execution_count": 55,
   "metadata": {
    "collapsed": false
   },
   "outputs": [
    {
     "data": {
      "text/plain": [
       "array([[ 219.7628479 ,   18.36930275],\n",
       "       [ 267.71664429,   16.5026226 ],\n",
       "       [ 315.67910767,   15.63172913],\n",
       "       [ 363.37298584,   16.02654839],\n",
       "       [ 243.35032654,   33.36188507],\n",
       "       [ 292.6272583 ,   32.24374771],\n",
       "       [ 341.8352356 ,   31.70520973],\n",
       "       [ 390.35336304,   32.34250259],\n",
       "       [ 217.29748535,   51.06294632],\n",
       "       [ 268.30944824,   49.61459351],\n",
       "       [ 318.97573853,   48.78683853],\n",
       "       [ 369.20889282,   48.73703003],\n",
       "       [ 242.25450134,   67.93720245],\n",
       "       [ 294.72644043,   67.19091797],\n",
       "       [ 346.59976196,   66.63425446],\n",
       "       [ 397.45690918,   66.52258301],\n",
       "       [ 215.66239929,   88.96458435],\n",
       "       [ 268.79644775,   86.31221008],\n",
       "       [ 322.51553345,   85.67716217],\n",
       "       [ 375.49597168,   85.50339508],\n",
       "       [ 241.95217896,  108.1072998 ],\n",
       "       [ 296.88250732,  106.02561951],\n",
       "       [ 351.79541016,  105.64916992],\n",
       "       [ 405.18197632,  105.34880829],\n",
       "       [ 213.38812256,  130.8684845 ],\n",
       "       [ 269.95883179,  128.73753357],\n",
       "       [ 326.39813232,  126.79515839],\n",
       "       [ 382.26687622,  126.7082901 ],\n",
       "       [ 241.50813293,  152.76509094],\n",
       "       [ 299.65142822,  150.85557556],\n",
       "       [ 357.33459473,  149.16403198],\n",
       "       [ 413.54315186,  148.98297119],\n",
       "       [ 211.80941772,  178.01174927],\n",
       "       [ 271.31796265,  176.04148865],\n",
       "       [ 331.02947998,  174.15356445],\n",
       "       [ 389.54516602,  172.65551758],\n",
       "       [ 241.26144409,  202.3886261 ],\n",
       "       [ 302.612854  ,  200.70613098],\n",
       "       [ 363.33374023,  198.58706665],\n",
       "       [ 422.38677979,  197.71969604],\n",
       "       [ 210.29508972,  230.6212616 ],\n",
       "       [ 272.84384155,  228.29325867],\n",
       "       [ 335.60922241,  226.56550598],\n",
       "       [ 396.95007324,  224.26667786]])"
      ]
     },
     "execution_count": 55,
     "metadata": {},
     "output_type": "execute_result"
    }
   ],
   "source": [
    "temp1"
   ]
  },
  {
   "cell_type": "code",
   "execution_count": 56,
   "metadata": {
    "collapsed": false
   },
   "outputs": [
    {
     "data": {
      "text/plain": [
       "(44, 2)"
      ]
     },
     "execution_count": 56,
     "metadata": {},
     "output_type": "execute_result"
    }
   ],
   "source": [
    "temp1.shape"
   ]
  },
  {
   "cell_type": "code",
   "execution_count": 57,
   "metadata": {
    "collapsed": false
   },
   "outputs": [
    {
     "data": {
      "text/plain": [
       "(44, 1, 2)"
      ]
     },
     "execution_count": 57,
     "metadata": {},
     "output_type": "execute_result"
    }
   ],
   "source": [
    "points1.shape"
   ]
  },
  {
   "cell_type": "code",
   "execution_count": 60,
   "metadata": {
    "collapsed": false
   },
   "outputs": [
    {
     "data": {
      "text/plain": [
       "(44, 2)"
      ]
     },
     "execution_count": 60,
     "metadata": {},
     "output_type": "execute_result"
    }
   ],
   "source": [
    "np.reshape(points1,(num_pts,2)).shape"
   ]
  },
  {
   "cell_type": "code",
   "execution_count": 47,
   "metadata": {
    "collapsed": false
   },
   "outputs": [
    {
     "data": {
      "text/plain": [
       "False"
      ]
     },
     "execution_count": 47,
     "metadata": {},
     "output_type": "execute_result"
    }
   ],
   "source": [
    "found1"
   ]
  },
  {
   "cell_type": "code",
   "execution_count": 65,
   "metadata": {
    "collapsed": true
   },
   "outputs": [],
   "source": [
    "iptsF1 \t= []\n",
    "iptsF1.append(np.reshape(points1,(num_pts,2)))"
   ]
  },
  {
   "cell_type": "code",
   "execution_count": 68,
   "metadata": {
    "collapsed": false
   },
   "outputs": [
    {
     "ename": "AttributeError",
     "evalue": "'list' object has no attribute 'type'",
     "output_type": "error",
     "traceback": [
      "\u001b[0;31m---------------------------------------------------------------------------\u001b[0m",
      "\u001b[0;31mAttributeError\u001b[0m                            Traceback (most recent call last)",
      "\u001b[0;32m<ipython-input-68-1df9f89c3a7f>\u001b[0m in \u001b[0;36m<module>\u001b[0;34m()\u001b[0m\n\u001b[0;32m----> 1\u001b[0;31m \u001b[0miptsF1\u001b[0m\u001b[0;34m.\u001b[0m\u001b[0mtype\u001b[0m\u001b[0;34m(\u001b[0m\u001b[0;34m)\u001b[0m\u001b[0;34m\u001b[0m\u001b[0m\n\u001b[0m",
      "\u001b[0;31mAttributeError\u001b[0m: 'list' object has no attribute 'type'"
     ]
    }
   ],
   "source": [
    "iptsF1.type()"
   ]
  },
  {
   "cell_type": "code",
   "execution_count": null,
   "metadata": {
    "collapsed": true
   },
   "outputs": [],
   "source": []
  }
 ],
 "metadata": {
  "kernelspec": {
   "display_name": "Python 2",
   "language": "python",
   "name": "python2"
  },
  "language_info": {
   "codemirror_mode": {
    "name": "ipython",
    "version": 2
   },
   "file_extension": ".py",
   "mimetype": "text/x-python",
   "name": "python",
   "nbconvert_exporter": "python",
   "pygments_lexer": "ipython2",
   "version": "2.7.9"
  }
 },
 "nbformat": 4,
 "nbformat_minor": 0
}
