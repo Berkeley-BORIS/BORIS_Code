{
 "cells": [
  {
   "cell_type": "code",
   "execution_count": 1,
   "metadata": {
    "collapsed": false
   },
   "outputs": [
    {
     "name": "stdout",
     "output_type": "stream",
     "text": [
      "running install\n",
      "running bdist_egg\n",
      "running egg_info\n",
      "writing requirements to boris.egg-info/requires.txt\n",
      "writing boris.egg-info/PKG-INFO\n",
      "writing top-level names to boris.egg-info/top_level.txt\n",
      "writing dependency_links to boris.egg-info/dependency_links.txt\n",
      "writing entry points to boris.egg-info/entry_points.txt\n",
      "reading manifest file 'boris.egg-info/SOURCES.txt'\n",
      "reading manifest template 'MANIFEST.in'\n",
      "writing manifest file 'boris.egg-info/SOURCES.txt'\n",
      "installing library code to build/bdist.macosx-10.5-x86_64/egg\n",
      "running install_lib\n",
      "running build_py\n",
      "copying boris/cam2eye_registration.py -> build/lib/boris\n",
      "creating build/bdist.macosx-10.5-x86_64/egg\n",
      "creating build/bdist.macosx-10.5-x86_64/egg/boris\n",
      "copying build/lib/boris/__init__.py -> build/bdist.macosx-10.5-x86_64/egg/boris\n",
      "copying build/lib/boris/aligneyes.py -> build/bdist.macosx-10.5-x86_64/egg/boris\n",
      "copying build/lib/boris/cam2eye_registration.py -> build/bdist.macosx-10.5-x86_64/egg/boris\n",
      "creating build/bdist.macosx-10.5-x86_64/egg/boris/cli\n",
      "copying build/lib/boris/cli/__init__.py -> build/bdist.macosx-10.5-x86_64/egg/boris/cli\n",
      "copying build/lib/boris/cli/main.py -> build/bdist.macosx-10.5-x86_64/egg/boris/cli\n",
      "copying build/lib/boris/config.py -> build/bdist.macosx-10.5-x86_64/egg/boris\n",
      "copying build/lib/boris/datamanager.py -> build/bdist.macosx-10.5-x86_64/egg/boris\n",
      "copying build/lib/boris/eyeparse.py -> build/bdist.macosx-10.5-x86_64/egg/boris\n",
      "copying build/lib/boris/framesync.py -> build/bdist.macosx-10.5-x86_64/egg/boris\n",
      "copying build/lib/boris/physical.py -> build/bdist.macosx-10.5-x86_64/egg/boris\n",
      "copying build/lib/boris/stereocalibration.py -> build/bdist.macosx-10.5-x86_64/egg/boris\n",
      "copying build/lib/boris/stereocalibration_old.py -> build/bdist.macosx-10.5-x86_64/egg/boris\n",
      "copying build/lib/boris/subject.py -> build/bdist.macosx-10.5-x86_64/egg/boris\n",
      "copying build/lib/boris/utils.py -> build/bdist.macosx-10.5-x86_64/egg/boris\n",
      "byte-compiling build/bdist.macosx-10.5-x86_64/egg/boris/__init__.py to __init__.pyc\n",
      "byte-compiling build/bdist.macosx-10.5-x86_64/egg/boris/aligneyes.py to aligneyes.pyc\n",
      "byte-compiling build/bdist.macosx-10.5-x86_64/egg/boris/cam2eye_registration.py to cam2eye_registration.pyc\n",
      "byte-compiling build/bdist.macosx-10.5-x86_64/egg/boris/cli/__init__.py to __init__.pyc\n",
      "byte-compiling build/bdist.macosx-10.5-x86_64/egg/boris/cli/main.py to main.pyc\n",
      "byte-compiling build/bdist.macosx-10.5-x86_64/egg/boris/config.py to config.pyc\n",
      "byte-compiling build/bdist.macosx-10.5-x86_64/egg/boris/datamanager.py to datamanager.pyc\n",
      "byte-compiling build/bdist.macosx-10.5-x86_64/egg/boris/eyeparse.py to eyeparse.pyc\n",
      "byte-compiling build/bdist.macosx-10.5-x86_64/egg/boris/framesync.py to framesync.pyc\n",
      "byte-compiling build/bdist.macosx-10.5-x86_64/egg/boris/physical.py to physical.pyc\n",
      "byte-compiling build/bdist.macosx-10.5-x86_64/egg/boris/stereocalibration.py to stereocalibration.pyc\n",
      "byte-compiling build/bdist.macosx-10.5-x86_64/egg/boris/stereocalibration_old.py to stereocalibration_old.pyc\n",
      "byte-compiling build/bdist.macosx-10.5-x86_64/egg/boris/subject.py to subject.pyc\n",
      "byte-compiling build/bdist.macosx-10.5-x86_64/egg/boris/utils.py to utils.pyc\n",
      "creating build/bdist.macosx-10.5-x86_64/egg/EGG-INFO\n",
      "copying boris.egg-info/PKG-INFO -> build/bdist.macosx-10.5-x86_64/egg/EGG-INFO\n",
      "copying boris.egg-info/SOURCES.txt -> build/bdist.macosx-10.5-x86_64/egg/EGG-INFO\n",
      "copying boris.egg-info/dependency_links.txt -> build/bdist.macosx-10.5-x86_64/egg/EGG-INFO\n",
      "copying boris.egg-info/entry_points.txt -> build/bdist.macosx-10.5-x86_64/egg/EGG-INFO\n",
      "copying boris.egg-info/requires.txt -> build/bdist.macosx-10.5-x86_64/egg/EGG-INFO\n",
      "copying boris.egg-info/top_level.txt -> build/bdist.macosx-10.5-x86_64/egg/EGG-INFO\n"
     ]
    },
    {
     "name": "stderr",
     "output_type": "stream",
     "text": [
      "zip_safe flag not set; analyzing archive contents...\n"
     ]
    },
    {
     "name": "stdout",
     "output_type": "stream",
     "text": [
      "creating 'dist/boris-0.1.dev2-py2.7.egg' and adding 'build/bdist.macosx-10.5-x86_64/egg' to it\n",
      "removing 'build/bdist.macosx-10.5-x86_64/egg' (and everything under it)\n",
      "Processing boris-0.1.dev2-py2.7.egg\n",
      "Removing /Users/emily/anaconda/envs/boris/lib/python2.7/site-packages/boris-0.1.dev2-py2.7.egg\n",
      "Copying boris-0.1.dev2-py2.7.egg to /Users/emily/anaconda/envs/boris/lib/python2.7/site-packages\n",
      "boris 0.1.dev2 is already the active version in easy-install.pth\n",
      "Installing boris script to /Users/emily/anaconda/envs/boris/bin\n",
      "\n",
      "Installed /Users/emily/anaconda/envs/boris/lib/python2.7/site-packages/boris-0.1.dev2-py2.7.egg\n",
      "Processing dependencies for boris==0.1.dev2\n",
      "Searching for PyYAML==3.11\n",
      "Best match: PyYAML 3.11\n",
      "Adding PyYAML 3.11 to easy-install.pth file\n",
      "\n",
      "Using /Users/emily/anaconda/envs/boris/lib/python2.7/site-packages\n",
      "Searching for tables==3.2.0\n",
      "Best match: tables 3.2.0\n",
      "Adding tables 3.2.0 to easy-install.pth file\n",
      "Installing ptdump script to /Users/emily/anaconda/envs/boris/bin\n",
      "Installing ptrepack script to /Users/emily/anaconda/envs/boris/bin\n",
      "Installing pt2to3 script to /Users/emily/anaconda/envs/boris/bin\n",
      "Installing pttree script to /Users/emily/anaconda/envs/boris/bin\n",
      "\n",
      "Using /Users/emily/anaconda/envs/boris/lib/python2.7/site-packages\n",
      "Searching for click==4.1\n",
      "Best match: click 4.1\n",
      "Adding click 4.1 to easy-install.pth file\n",
      "\n",
      "Using /Users/emily/anaconda/envs/boris/lib/python2.7/site-packages\n",
      "Searching for pandas==0.16.2\n",
      "Best match: pandas 0.16.2\n",
      "Adding pandas 0.16.2 to easy-install.pth file\n",
      "\n",
      "Using /Users/emily/anaconda/envs/boris/lib/python2.7/site-packages\n",
      "Searching for numpy==1.9.2\n",
      "Best match: numpy 1.9.2\n",
      "Adding numpy 1.9.2 to easy-install.pth file\n",
      "\n",
      "Using /Users/emily/anaconda/envs/boris/lib/python2.7/site-packages\n",
      "Searching for numexpr==2.4.3\n",
      "Best match: numexpr 2.4.3\n",
      "Adding numexpr 2.4.3 to easy-install.pth file\n",
      "\n",
      "Using /Users/emily/anaconda/envs/boris/lib/python2.7/site-packages\n",
      "Searching for pytz==2015.4\n",
      "Best match: pytz 2015.4\n",
      "Adding pytz 2015.4 to easy-install.pth file\n",
      "\n",
      "Using /Users/emily/anaconda/envs/boris/lib/python2.7/site-packages\n",
      "Searching for python-dateutil==2.4.2\n",
      "Best match: python-dateutil 2.4.2\n",
      "Adding python-dateutil 2.4.2 to easy-install.pth file\n",
      "\n",
      "Using /Users/emily/anaconda/envs/boris/lib/python2.7/site-packages\n",
      "Searching for six==1.9.0\n",
      "Best match: six 1.9.0\n",
      "Adding six 1.9.0 to easy-install.pth file\n",
      "\n",
      "Using /Users/emily/anaconda/envs/boris/lib/python2.7/site-packages\n",
      "Finished processing dependencies for boris==0.1.dev2\n"
     ]
    }
   ],
   "source": [
    "run setup.py install"
   ]
  },
  {
   "cell_type": "code",
   "execution_count": 2,
   "metadata": {
    "collapsed": true
   },
   "outputs": [],
   "source": [
    "from boris import *"
   ]
  },
  {
   "cell_type": "code",
   "execution_count": 3,
   "metadata": {
    "collapsed": true
   },
   "outputs": [],
   "source": [
    "subject_id = 'kre'"
   ]
  },
  {
   "cell_type": "code",
   "execution_count": 4,
   "metadata": {
    "collapsed": true
   },
   "outputs": [],
   "source": [
    "session_id = 'cafe'"
   ]
  },
  {
   "cell_type": "code",
   "execution_count": 5,
   "metadata": {
    "collapsed": false
   },
   "outputs": [
    {
     "name": "stdout",
     "output_type": "stream",
     "text": [
      "Registering cameras and eyes for kre cafe for trial number 1 using files in /users/emily/BORIS/session_data/raw/cam2eye_registration/kre/kre_cafe...\n"
     ]
    }
   ],
   "source": [
    "    subject = BORISSubject(subject_id)\n",
    "\n",
    "    for trial in range(1,2):\n",
    "\n",
    "        # grab circle grid image directories\n",
    "        distances = ['50', '100', '450']\n",
    "        board_directories = []\n",
    "        for distance in distances:\n",
    "            directory_path = join(subject.cam2eye_registration_session_dpath(session_id), \"_\".join([\"circles\", distance, str(trial)]))\n",
    "            board_directories.append(directory_path)\n",
    "\n",
    "\n",
    "    print(\"Registering cameras and eyes for {subject_id} {session_id} for trial number {tnum} using files in {dpath}...\".format(\n",
    "        subject_id=subject_id, session_id=session_id, tnum=str(trial), dpath=subject.cam2eye_registration_session_dpath(session_id)))"
   ]
  },
  {
   "cell_type": "code",
   "execution_count": 6,
   "metadata": {
    "collapsed": false
   },
   "outputs": [],
   "source": [
    "cam2eye_register = CamEyeRegister(board_directories,subject.cam2eye_registration_processed_dpath(session_id),subject.stereocalibration_processed_dpath(session_id))"
   ]
  },
  {
   "cell_type": "code",
   "execution_count": 7,
   "metadata": {
    "collapsed": false
   },
   "outputs": [
    {
     "name": "stdout",
     "output_type": "stream",
     "text": [
      "Detecting Circle Grid points...\n",
      "Finding circle centers...\n",
      "Finding circles in /users/emily/BORIS/session_data/raw/cam2eye_registration/kre/kre_cafe/circles_50_1/cam1_frame_1.bmp\n",
      "Finding circles in /users/emily/BORIS/session_data/raw/cam2eye_registration/kre/kre_cafe/circles_100_1/cam1_frame_1.bmp\n",
      "Finding circles in /users/emily/BORIS/session_data/raw/cam2eye_registration/kre/kre_cafe/circles_450_1/cam1_frame_1.bmp\n",
      "Esimating Circle Grid pose...\n",
      "Transformations found! Saving file...\n",
      "solvepnp rms error: 4.17805363816\n",
      "tvec: [[-2.90984336]\n",
      " [-8.47487876]\n",
      " [ 7.89074724]]\n",
      "rvec: [[  -2.3628284 ]\n",
      " [ 178.26954665]\n",
      " [   4.39690852]]\n"
     ]
    }
   ],
   "source": [
    "cam2eye_register.register()"
   ]
  },
  {
   "cell_type": "code",
   "execution_count": 8,
   "metadata": {
    "collapsed": false
   },
   "outputs": [
    {
     "name": "stderr",
     "output_type": "stream",
     "text": [
      "ERROR: No traceback has been produced, nothing to debug.\n"
     ]
    }
   ],
   "source": [
    "%debug"
   ]
  },
  {
   "cell_type": "code",
   "execution_count": 9,
   "metadata": {
    "collapsed": false
   },
   "outputs": [
    {
     "ename": "NameError",
     "evalue": "global name 'trace' is not defined",
     "output_type": "error",
     "traceback": [
      "\u001b[0;31m---------------------------------------------------------------------------\u001b[0m",
      "\u001b[0;31mNameError\u001b[0m                                 Traceback (most recent call last)",
      "\u001b[0;32m<ipython-input-9-bccc856b89d8>\u001b[0m in \u001b[0;36m<module>\u001b[0;34m()\u001b[0m\n\u001b[0;32m----> 1\u001b[0;31m \u001b[0mcam2eye_register\u001b[0m\u001b[0;34m.\u001b[0m\u001b[0mstore_params\u001b[0m\u001b[0;34m(\u001b[0m\u001b[0;34m)\u001b[0m\u001b[0;34m\u001b[0m\u001b[0m\n\u001b[0m",
      "\u001b[0;32m/Users/emily/BORIS/code/boris/cam2eye_registration.py\u001b[0m in \u001b[0;36mstore_params\u001b[0;34m(self)\u001b[0m\n\u001b[1;32m    163\u001b[0m         \u001b[0;34m''' store results '''\u001b[0m\u001b[0;34m\u001b[0m\u001b[0m\n\u001b[1;32m    164\u001b[0m \u001b[0;34m\u001b[0m\u001b[0m\n\u001b[0;32m--> 165\u001b[0;31m         \u001b[0mtrace\u001b[0m\u001b[0;34m\u001b[0m\u001b[0m\n\u001b[0m\u001b[1;32m    166\u001b[0m \u001b[0;34m\u001b[0m\u001b[0m\n\u001b[1;32m    167\u001b[0m         \u001b[0;32mif\u001b[0m \u001b[0;32mnot\u001b[0m \u001b[0mos\u001b[0m\u001b[0;34m.\u001b[0m\u001b[0mpath\u001b[0m\u001b[0;34m.\u001b[0m\u001b[0mexists\u001b[0m\u001b[0;34m(\u001b[0m\u001b[0mself\u001b[0m\u001b[0;34m.\u001b[0m\u001b[0mprocessed_data_fpath\u001b[0m\u001b[0;34m)\u001b[0m\u001b[0;34m:\u001b[0m\u001b[0;34m\u001b[0m\u001b[0m\n",
      "\u001b[0;31mNameError\u001b[0m: global name 'trace' is not defined"
     ]
    }
   ],
   "source": [
    "cam2eye_register.store_params()"
   ]
  },
  {
   "cell_type": "code",
   "execution_count": null,
   "metadata": {
    "collapsed": false
   },
   "outputs": [
    {
     "name": "stdout",
     "output_type": "stream",
     "text": [
      "> \u001b[0;32m/Users/emily/BORIS/code/boris/cam2eye_registration.py\u001b[0m(165)\u001b[0;36mstore_params\u001b[0;34m()\u001b[0m\n",
      "\u001b[0;32m    164 \u001b[0;31m\u001b[0;34m\u001b[0m\u001b[0m\n",
      "\u001b[0m\u001b[0;32m--> 165 \u001b[0;31m        \u001b[0mtrace\u001b[0m\u001b[0;34m\u001b[0m\u001b[0m\n",
      "\u001b[0m\u001b[0;32m    166 \u001b[0;31m\u001b[0;34m\u001b[0m\u001b[0m\n",
      "\u001b[0m\n",
      "ipdb> np.savez(join(self.processed_data_fpath,'cam2eye_tform.npz'), rvec=rvec, tvec=tvec, cam_mat=cam_mat, dist_coeffs=dist_coeffs)\n",
      "*** NameError: name 'rvec' is not defined\n"
     ]
    }
   ],
   "source": [
    "%debug"
   ]
  },
  {
   "cell_type": "code",
   "execution_count": null,
   "metadata": {
    "collapsed": true
   },
   "outputs": [],
   "source": []
  }
 ],
 "metadata": {
  "kernelspec": {
   "display_name": "Python 2",
   "language": "python",
   "name": "python2"
  },
  "language_info": {
   "codemirror_mode": {
    "name": "ipython",
    "version": 2
   },
   "file_extension": ".py",
   "mimetype": "text/x-python",
   "name": "python",
   "nbconvert_exporter": "python",
   "pygments_lexer": "ipython2",
   "version": "2.7.10"
  }
 },
 "nbformat": 4,
 "nbformat_minor": 0
}
